{
  "nbformat": 4,
  "nbformat_minor": 0,
  "metadata": {
    "colab": {
      "name": "ВиМ ПР№3 py.ipynb",
      "provenance": [],
      "collapsed_sections": [
        "CdN7RuOOCj11",
        "p7Y7XAgvru16",
        "03Lt8LOMTFld"
      ]
    },
    "kernelspec": {
      "name": "python3",
      "display_name": "Python 3"
    },
    "language_info": {
      "name": "python"
    }
  },
  "cells": [
    {
      "cell_type": "markdown",
      "source": [
        "# Команда\n",
        "* Безкоровайный Павел\n",
        "* Долматов Дмитрий\n",
        "* Коряков Сергей\n",
        "\n",
        "Ссылка на R-collab: https://colab.research.google.com/drive/1LEnC0ngE2CUGvJHh5w4fa5WF5pvd4Bin?usp=sharing"
      ],
      "metadata": {
        "id": "q1Ejwe3xzCRr"
      }
    },
    {
      "cell_type": "markdown",
      "source": [
        "# Описание задания\n",
        "\n",
        "## Задание 3\n",
        "\n",
        "Выполняется в парах. Допускается выполнение в группах по 3 человека.\n",
        "\n",
        "1. Выберите 2-3 датасета для анализа. Большой список источников датасетов можно найти здесь: [https://r-dir.com/reference/datasets.html](https://r-dir.com/reference/datasets.html), но можно выбрать любой другой.\n",
        "2. Оцените и опишите выбранные датасеты: какие в них представлены данные, в каких шкалах они измерены, сколько строк и признаков. Это удобно сделать в виде небольшой таблицы с колонками «Признак», «Тип данных», «Шкала». Кратко опишите, для каких задач датасет подойдет, а для каких – нет.\n",
        "3. Выдерите один датасет для анализа.\n",
        "4. Сформулируйте 16 различных гипотез относительно содержания данных.\n",
        "5. 8 любых гипотез проверьте на R, 8 оставшихся – при помощи pandas.\n",
        "6. Каждая визуализация-проверка должна содержать вывод: что наблюдаем, подтвердилась ли гипотеза.\n",
        "7. Загрузите отчет на Piazza. Можно в формате Google Colab или html-версии R Markdown. Пункт 2 можно оформить отдельным документом или добавить в один из блокнотов. Достаточно, чтобы отчет загрузил один человек из пары/команды, но не забудьте указать всех авторов."
      ],
      "metadata": {
        "id": "X81FxRvuy3Zx"
      }
    },
    {
      "cell_type": "markdown",
      "source": [
        "# Правила совместной работы\n",
        "1. Перед закрытием коллаба убедиться, что все данные сохранены. Для этого откройте тот же коллаб в отдельном окне.\n",
        "2. Все библиотеки, которые используются более, чем в одном блоке кода, выносить в отдельный блок с подключением библиотек.\n",
        "3. Все используемые файлы загружать в виде ссылок. Для этого (на примере гугл диска):\n",
        "  1. Загружаем файл себе на гугл диск, нажимаем `открыть доступ`, создаём ссылку.\n",
        "  2. Полученную ссылку преобразуем в ссылку для скачивания, например через сервис https://www.votix.ru/p/sozdat-pryamuyu-ssylku-fajla-google-disk.html \n",
        "  3. Читаем файл по сгенерированной ссылке с помощью команды `pd.read_csv(\"ссылка\")`\n",
        "\n",
        "4. В начале каждого блока, копируем используемые датасеты с помощью метода copy(), чтобы каждый блок кода был самостоятельным.\n",
        "  * В Р вместо метода copy используется оператор стрелочка\n",
        "  * `new_copy <- suicides`"
      ],
      "metadata": {
        "id": "ql89jyBfkPoU"
      }
    },
    {
      "cell_type": "markdown",
      "source": [
        "#Библиотеки и данные"
      ],
      "metadata": {
        "id": "kevXTWZIriMO"
      }
    },
    {
      "cell_type": "code",
      "source": [
        "# подключение библиотек\n",
        "import pandas as pd\n",
        "import matplotlib.pyplot as plt\n",
        "import seaborn as sns\n",
        "import plotly.express as px\n"
      ],
      "metadata": {
        "id": "vBrZE5QwjO9G"
      },
      "execution_count": null,
      "outputs": []
    },
    {
      "cell_type": "code",
      "source": [
        "import pycountry\n",
        "import pycountry_convert as pyconv"
      ],
      "metadata": {
        "id": "rI2my53kc8R9"
      },
      "execution_count": null,
      "outputs": []
    },
    {
      "cell_type": "code",
      "source": [
        "!pip install pycountry\n",
        "!pip install pycountry-convert"
      ],
      "metadata": {
        "id": "aJI-KlpDZSIH",
        "colab": {
          "base_uri": "https://localhost:8080/"
        },
        "outputId": "45f01169-732a-4108-afb3-e19fc52ddc8e"
      },
      "execution_count": null,
      "outputs": [
        {
          "output_type": "stream",
          "name": "stdout",
          "text": [
            "Requirement already satisfied: pycountry in /usr/local/lib/python3.7/dist-packages (22.3.5)\n",
            "Requirement already satisfied: setuptools in /usr/local/lib/python3.7/dist-packages (from pycountry) (57.4.0)\n",
            "Requirement already satisfied: pycountry-convert in /usr/local/lib/python3.7/dist-packages (0.7.2)\n",
            "Requirement already satisfied: pprintpp>=0.3.0 in /usr/local/lib/python3.7/dist-packages (from pycountry-convert) (0.4.0)\n",
            "Requirement already satisfied: pycountry>=16.11.27.1 in /usr/local/lib/python3.7/dist-packages (from pycountry-convert) (22.3.5)\n",
            "Requirement already satisfied: repoze.lru>=0.7 in /usr/local/lib/python3.7/dist-packages (from pycountry-convert) (0.7)\n",
            "Requirement already satisfied: wheel>=0.30.0 in /usr/local/lib/python3.7/dist-packages (from pycountry-convert) (0.37.1)\n",
            "Requirement already satisfied: pytest-mock>=1.6.3 in /usr/local/lib/python3.7/dist-packages (from pycountry-convert) (3.2.0)\n",
            "Requirement already satisfied: pytest>=3.4.0 in /usr/local/lib/python3.7/dist-packages (from pycountry-convert) (3.6.4)\n",
            "Requirement already satisfied: pytest-cov>=2.5.1 in /usr/local/lib/python3.7/dist-packages (from pycountry-convert) (2.9.0)\n",
            "Requirement already satisfied: setuptools in /usr/local/lib/python3.7/dist-packages (from pycountry>=16.11.27.1->pycountry-convert) (57.4.0)\n",
            "Requirement already satisfied: more-itertools>=4.0.0 in /usr/local/lib/python3.7/dist-packages (from pytest>=3.4.0->pycountry-convert) (8.12.0)\n",
            "Requirement already satisfied: six>=1.10.0 in /usr/local/lib/python3.7/dist-packages (from pytest>=3.4.0->pycountry-convert) (1.15.0)\n",
            "Requirement already satisfied: attrs>=17.4.0 in /usr/local/lib/python3.7/dist-packages (from pytest>=3.4.0->pycountry-convert) (21.4.0)\n",
            "Requirement already satisfied: py>=1.5.0 in /usr/local/lib/python3.7/dist-packages (from pytest>=3.4.0->pycountry-convert) (1.11.0)\n",
            "Requirement already satisfied: pluggy<0.8,>=0.5 in /usr/local/lib/python3.7/dist-packages (from pytest>=3.4.0->pycountry-convert) (0.7.1)\n",
            "Requirement already satisfied: atomicwrites>=1.0 in /usr/local/lib/python3.7/dist-packages (from pytest>=3.4.0->pycountry-convert) (1.4.0)\n",
            "Requirement already satisfied: coverage>=4.4 in /usr/local/lib/python3.7/dist-packages (from pytest-cov>=2.5.1->pycountry-convert) (6.3.2)\n"
          ]
        }
      ]
    },
    {
      "cell_type": "code",
      "source": [
        "# загрузка датасетов\n",
        "beijing_houses = pd.read_csv(\"https://drive.google.com/uc?export=download&confirm=no_antivirus&id=17HSbU0GqREmA4Zrtyc5enWePE5EJ5ji9\", encoding = \"ISO-8859-1\")\n",
        "uk_fires = pd.read_csv(\"https://drive.google.com/uc?export=download&confirm=no_antivirus&id=1MmdMpYqcQsqVNO8rVHsXlcHfxcDZo5Fu\")"
      ],
      "metadata": {
        "id": "rP4X5qrYioVh",
        "colab": {
          "base_uri": "https://localhost:8080/"
        },
        "outputId": "643d4379-715e-4aba-b4e6-8e1952f0f947"
      },
      "execution_count": null,
      "outputs": [
        {
          "output_type": "stream",
          "name": "stderr",
          "text": [
            "/usr/local/lib/python3.7/dist-packages/IPython/core/interactiveshell.py:2882: DtypeWarning: Columns (1,11,12,14) have mixed types.Specify dtype option on import or set low_memory=False.\n",
            "  exec(code_obj, self.user_global_ns, self.user_ns)\n"
          ]
        }
      ]
    },
    {
      "cell_type": "code",
      "source": [
        "suicides = pd.read_csv(\"https://drive.google.com/uc?export=download&confirm=no_antivirus&id=1QsLLJxDR1nVTY3S1YvUBOPqZiHsctfiy\")"
      ],
      "metadata": {
        "id": "TrFiZYe0G-zJ"
      },
      "execution_count": null,
      "outputs": []
    },
    {
      "cell_type": "markdown",
      "source": [
        "# Выбор датасетов\n",
        "\n",
        "Датасеты, выбранные для анализа:\n",
        "* Пожары в Англии: https://www.kaggle.com/datasets/timmofeyy/-fire-cases-in-uk-within-last-3-years\n",
        "* Цены на жильё в Пекине: https://www.kaggle.com/datasets/ruiqurm/lianjia\n",
        "* Самоубийства (1985-2016): https://www.kaggle.com/datasets/sadiqshah/suicides-rate-1985-to-2016"
      ],
      "metadata": {
        "id": "f0IyB--S0H96"
      }
    },
    {
      "cell_type": "markdown",
      "source": [
        "##Жилье в Шанхае"
      ],
      "metadata": {
        "id": "MW5BW4Rbrx6K"
      }
    },
    {
      "cell_type": "code",
      "source": [
        "bh = beijing_houses.copy()\n",
        "bh=bh.dtypes.to_frame()\n",
        "bh.columns=[\"Тип данных\"]\n",
        "bh[\"Шкала\"] = [\"Ссылка на пост\", \"ID транзакции\", \"Долгота\", \"Широта\", \"ID сообщества\", \"Дата транзакции (ГГ-ММ-ДД)\", \n",
        "               \"Возраст листинга недвижимости (в днях)\", \"Кол. следящих за транзакцией\", \"Итог. цена, $\", \"Цена за кв.метр, $\", \n",
        "               \"Площадь, в м^2\", \"Кол. жилых комнат\", \"Кол. гостиных\", \"Кол. кухонь\", \"Кол. ванных комнат\", \"Высота дома (в футах)\", \n",
        "               \"Тип постройки\", \"Год постройки\", \"Cостояние ремонта\", \"Материал постройки\", \"Среднее количество лестниц на жителя\", \n",
        "               \"Нал. лифта (0 - нет)\", \"Прошлое владение 5 лет\", \"Нал. метро\", \"Район\", \"Средняя цена, $\" ]\n",
        "bh.index.name =\"Признак\"\n",
        "bh"
      ],
      "metadata": {
        "colab": {
          "base_uri": "https://localhost:8080/",
          "height": 896
        },
        "id": "t7Tnl1tqKfiP",
        "outputId": "19ab1bf2-e826-43fa-f2d1-41c82cc7e620"
      },
      "execution_count": null,
      "outputs": [
        {
          "output_type": "execute_result",
          "data": {
            "text/plain": [
              "                    Тип данных                                   Шкала\n",
              "Признак                                                               \n",
              "url                     object                          Ссылка на пост\n",
              "id                      object                           ID транзакции\n",
              "Lng                    float64                                 Долгота\n",
              "Lat                    float64                                  Широта\n",
              "Cid                      int64                           ID сообщества\n",
              "tradeTime               object              Дата транзакции (ГГ-ММ-ДД)\n",
              "DOM                    float64  Возраст листинга недвижимости (в днях)\n",
              "followers                int64            Кол. следящих за транзакцией\n",
              "totalPrice             float64                           Итог. цена, $\n",
              "price                    int64                      Цена за кв.метр, $\n",
              "square                 float64                          Площадь, в м^2\n",
              "livingRoom              object                       Кол. жилых комнат\n",
              "drawingRoom             object                           Кол. гостиных\n",
              "kitchen                  int64                             Кол. кухонь\n",
              "bathRoom                object                      Кол. ванных комнат\n",
              "floor                   object                   Высота дома (в футах)\n",
              "buildingType           float64                           Тип постройки\n",
              "constructionTime        object                           Год постройки\n",
              "renovationCondition      int64                       Cостояние ремонта\n",
              "buildingStructure        int64                      Материал постройки\n",
              "ladderRatio            float64    Среднее количество лестниц на жителя\n",
              "elevator               float64                    Нал. лифта (0 - нет)\n",
              "fiveYearsProperty      float64                  Прошлое владение 5 лет\n",
              "subway                 float64                              Нал. метро\n",
              "district                 int64                                   Район\n",
              "communityAverage       float64                         Средняя цена, $"
            ],
            "text/html": [
              "\n",
              "  <div id=\"df-f9e27873-68e0-40e0-9fbb-b542dc9ee689\">\n",
              "    <div class=\"colab-df-container\">\n",
              "      <div>\n",
              "<style scoped>\n",
              "    .dataframe tbody tr th:only-of-type {\n",
              "        vertical-align: middle;\n",
              "    }\n",
              "\n",
              "    .dataframe tbody tr th {\n",
              "        vertical-align: top;\n",
              "    }\n",
              "\n",
              "    .dataframe thead th {\n",
              "        text-align: right;\n",
              "    }\n",
              "</style>\n",
              "<table border=\"1\" class=\"dataframe\">\n",
              "  <thead>\n",
              "    <tr style=\"text-align: right;\">\n",
              "      <th></th>\n",
              "      <th>Тип данных</th>\n",
              "      <th>Шкала</th>\n",
              "    </tr>\n",
              "    <tr>\n",
              "      <th>Признак</th>\n",
              "      <th></th>\n",
              "      <th></th>\n",
              "    </tr>\n",
              "  </thead>\n",
              "  <tbody>\n",
              "    <tr>\n",
              "      <th>url</th>\n",
              "      <td>object</td>\n",
              "      <td>Ссылка на пост</td>\n",
              "    </tr>\n",
              "    <tr>\n",
              "      <th>id</th>\n",
              "      <td>object</td>\n",
              "      <td>ID транзакции</td>\n",
              "    </tr>\n",
              "    <tr>\n",
              "      <th>Lng</th>\n",
              "      <td>float64</td>\n",
              "      <td>Долгота</td>\n",
              "    </tr>\n",
              "    <tr>\n",
              "      <th>Lat</th>\n",
              "      <td>float64</td>\n",
              "      <td>Широта</td>\n",
              "    </tr>\n",
              "    <tr>\n",
              "      <th>Cid</th>\n",
              "      <td>int64</td>\n",
              "      <td>ID сообщества</td>\n",
              "    </tr>\n",
              "    <tr>\n",
              "      <th>tradeTime</th>\n",
              "      <td>object</td>\n",
              "      <td>Дата транзакции (ГГ-ММ-ДД)</td>\n",
              "    </tr>\n",
              "    <tr>\n",
              "      <th>DOM</th>\n",
              "      <td>float64</td>\n",
              "      <td>Возраст листинга недвижимости (в днях)</td>\n",
              "    </tr>\n",
              "    <tr>\n",
              "      <th>followers</th>\n",
              "      <td>int64</td>\n",
              "      <td>Кол. следящих за транзакцией</td>\n",
              "    </tr>\n",
              "    <tr>\n",
              "      <th>totalPrice</th>\n",
              "      <td>float64</td>\n",
              "      <td>Итог. цена, $</td>\n",
              "    </tr>\n",
              "    <tr>\n",
              "      <th>price</th>\n",
              "      <td>int64</td>\n",
              "      <td>Цена за кв.метр, $</td>\n",
              "    </tr>\n",
              "    <tr>\n",
              "      <th>square</th>\n",
              "      <td>float64</td>\n",
              "      <td>Площадь, в м^2</td>\n",
              "    </tr>\n",
              "    <tr>\n",
              "      <th>livingRoom</th>\n",
              "      <td>object</td>\n",
              "      <td>Кол. жилых комнат</td>\n",
              "    </tr>\n",
              "    <tr>\n",
              "      <th>drawingRoom</th>\n",
              "      <td>object</td>\n",
              "      <td>Кол. гостиных</td>\n",
              "    </tr>\n",
              "    <tr>\n",
              "      <th>kitchen</th>\n",
              "      <td>int64</td>\n",
              "      <td>Кол. кухонь</td>\n",
              "    </tr>\n",
              "    <tr>\n",
              "      <th>bathRoom</th>\n",
              "      <td>object</td>\n",
              "      <td>Кол. ванных комнат</td>\n",
              "    </tr>\n",
              "    <tr>\n",
              "      <th>floor</th>\n",
              "      <td>object</td>\n",
              "      <td>Высота дома (в футах)</td>\n",
              "    </tr>\n",
              "    <tr>\n",
              "      <th>buildingType</th>\n",
              "      <td>float64</td>\n",
              "      <td>Тип постройки</td>\n",
              "    </tr>\n",
              "    <tr>\n",
              "      <th>constructionTime</th>\n",
              "      <td>object</td>\n",
              "      <td>Год постройки</td>\n",
              "    </tr>\n",
              "    <tr>\n",
              "      <th>renovationCondition</th>\n",
              "      <td>int64</td>\n",
              "      <td>Cостояние ремонта</td>\n",
              "    </tr>\n",
              "    <tr>\n",
              "      <th>buildingStructure</th>\n",
              "      <td>int64</td>\n",
              "      <td>Материал постройки</td>\n",
              "    </tr>\n",
              "    <tr>\n",
              "      <th>ladderRatio</th>\n",
              "      <td>float64</td>\n",
              "      <td>Среднее количество лестниц на жителя</td>\n",
              "    </tr>\n",
              "    <tr>\n",
              "      <th>elevator</th>\n",
              "      <td>float64</td>\n",
              "      <td>Нал. лифта (0 - нет)</td>\n",
              "    </tr>\n",
              "    <tr>\n",
              "      <th>fiveYearsProperty</th>\n",
              "      <td>float64</td>\n",
              "      <td>Прошлое владение 5 лет</td>\n",
              "    </tr>\n",
              "    <tr>\n",
              "      <th>subway</th>\n",
              "      <td>float64</td>\n",
              "      <td>Нал. метро</td>\n",
              "    </tr>\n",
              "    <tr>\n",
              "      <th>district</th>\n",
              "      <td>int64</td>\n",
              "      <td>Район</td>\n",
              "    </tr>\n",
              "    <tr>\n",
              "      <th>communityAverage</th>\n",
              "      <td>float64</td>\n",
              "      <td>Средняя цена, $</td>\n",
              "    </tr>\n",
              "  </tbody>\n",
              "</table>\n",
              "</div>\n",
              "      <button class=\"colab-df-convert\" onclick=\"convertToInteractive('df-f9e27873-68e0-40e0-9fbb-b542dc9ee689')\"\n",
              "              title=\"Convert this dataframe to an interactive table.\"\n",
              "              style=\"display:none;\">\n",
              "        \n",
              "  <svg xmlns=\"http://www.w3.org/2000/svg\" height=\"24px\"viewBox=\"0 0 24 24\"\n",
              "       width=\"24px\">\n",
              "    <path d=\"M0 0h24v24H0V0z\" fill=\"none\"/>\n",
              "    <path d=\"M18.56 5.44l.94 2.06.94-2.06 2.06-.94-2.06-.94-.94-2.06-.94 2.06-2.06.94zm-11 1L8.5 8.5l.94-2.06 2.06-.94-2.06-.94L8.5 2.5l-.94 2.06-2.06.94zm10 10l.94 2.06.94-2.06 2.06-.94-2.06-.94-.94-2.06-.94 2.06-2.06.94z\"/><path d=\"M17.41 7.96l-1.37-1.37c-.4-.4-.92-.59-1.43-.59-.52 0-1.04.2-1.43.59L10.3 9.45l-7.72 7.72c-.78.78-.78 2.05 0 2.83L4 21.41c.39.39.9.59 1.41.59.51 0 1.02-.2 1.41-.59l7.78-7.78 2.81-2.81c.8-.78.8-2.07 0-2.86zM5.41 20L4 18.59l7.72-7.72 1.47 1.35L5.41 20z\"/>\n",
              "  </svg>\n",
              "      </button>\n",
              "      \n",
              "  <style>\n",
              "    .colab-df-container {\n",
              "      display:flex;\n",
              "      flex-wrap:wrap;\n",
              "      gap: 12px;\n",
              "    }\n",
              "\n",
              "    .colab-df-convert {\n",
              "      background-color: #E8F0FE;\n",
              "      border: none;\n",
              "      border-radius: 50%;\n",
              "      cursor: pointer;\n",
              "      display: none;\n",
              "      fill: #1967D2;\n",
              "      height: 32px;\n",
              "      padding: 0 0 0 0;\n",
              "      width: 32px;\n",
              "    }\n",
              "\n",
              "    .colab-df-convert:hover {\n",
              "      background-color: #E2EBFA;\n",
              "      box-shadow: 0px 1px 2px rgba(60, 64, 67, 0.3), 0px 1px 3px 1px rgba(60, 64, 67, 0.15);\n",
              "      fill: #174EA6;\n",
              "    }\n",
              "\n",
              "    [theme=dark] .colab-df-convert {\n",
              "      background-color: #3B4455;\n",
              "      fill: #D2E3FC;\n",
              "    }\n",
              "\n",
              "    [theme=dark] .colab-df-convert:hover {\n",
              "      background-color: #434B5C;\n",
              "      box-shadow: 0px 1px 3px 1px rgba(0, 0, 0, 0.15);\n",
              "      filter: drop-shadow(0px 1px 2px rgba(0, 0, 0, 0.3));\n",
              "      fill: #FFFFFF;\n",
              "    }\n",
              "  </style>\n",
              "\n",
              "      <script>\n",
              "        const buttonEl =\n",
              "          document.querySelector('#df-f9e27873-68e0-40e0-9fbb-b542dc9ee689 button.colab-df-convert');\n",
              "        buttonEl.style.display =\n",
              "          google.colab.kernel.accessAllowed ? 'block' : 'none';\n",
              "\n",
              "        async function convertToInteractive(key) {\n",
              "          const element = document.querySelector('#df-f9e27873-68e0-40e0-9fbb-b542dc9ee689');\n",
              "          const dataTable =\n",
              "            await google.colab.kernel.invokeFunction('convertToInteractive',\n",
              "                                                     [key], {});\n",
              "          if (!dataTable) return;\n",
              "\n",
              "          const docLinkHtml = 'Like what you see? Visit the ' +\n",
              "            '<a target=\"_blank\" href=https://colab.research.google.com/notebooks/data_table.ipynb>data table notebook</a>'\n",
              "            + ' to learn more about interactive tables.';\n",
              "          element.innerHTML = '';\n",
              "          dataTable['output_type'] = 'display_data';\n",
              "          await google.colab.output.renderOutput(dataTable, element);\n",
              "          const docLink = document.createElement('div');\n",
              "          docLink.innerHTML = docLinkHtml;\n",
              "          element.appendChild(docLink);\n",
              "        }\n",
              "      </script>\n",
              "    </div>\n",
              "  </div>\n",
              "  "
            ]
          },
          "metadata": {},
          "execution_count": 11
        }
      ]
    },
    {
      "cell_type": "code",
      "source": [
        "beijing_houses.sample(5)"
      ],
      "metadata": {
        "colab": {
          "base_uri": "https://localhost:8080/",
          "height": 386
        },
        "id": "c-enLEvqSDYX",
        "outputId": "a701fd74-d305-43e2-edc8-8d3b0758c1f1"
      },
      "execution_count": null,
      "outputs": [
        {
          "output_type": "execute_result",
          "data": {
            "text/plain": [
              "                                                      url            id  \\\n",
              "216964  https://bj.lianjia.com/chengjiao/BJDX91342133....  BJDX91342133   \n",
              "298067  https://bj.lianjia.com/chengjiao/BJXC84936233....  BJXC84936233   \n",
              "208870  https://bj.lianjia.com/chengjiao/BJDX84793220....  BJDX84793220   \n",
              "268137  https://bj.lianjia.com/chengjiao/BJHD92245933....  BJHD92245933   \n",
              "222453  https://bj.lianjia.com/chengjiao/BJFT84690408....  BJFT84690408   \n",
              "\n",
              "               Lng        Lat            Cid   tradeTime  DOM  followers  \\\n",
              "216964  116.450891  39.822298  1111027378846  2016-05-11  1.0         57   \n",
              "298067  116.391726  39.978788  1111027382272  2012-12-01  NaN          0   \n",
              "208870  116.460643  39.806976  1111027378386  2012-08-12  NaN          0   \n",
              "268137  116.364365  40.069487  1111027382307  2016-05-30  NaN         20   \n",
              "222453  116.426617  39.867648  1111027377942  2012-08-15  NaN          0   \n",
              "\n",
              "        totalPrice  price  ...  buildingType constructionTime  \\\n",
              "216964       368.0  28764  ...           3.0             2005   \n",
              "298067       230.0  43727  ...           4.0             1983   \n",
              "208870       225.0  18351  ...           3.0             2001   \n",
              "268137       519.0  44788  ...           3.0             2004   \n",
              "222453       183.0  26849  ...           3.0             1998   \n",
              "\n",
              "       renovationCondition  buildingStructure ladderRatio elevator  \\\n",
              "216964                   3                  6       0.500      1.0   \n",
              "298067                   1                  2       0.250      0.0   \n",
              "208870                   1                  6       0.500      1.0   \n",
              "268137                   4                  6       0.500      1.0   \n",
              "222453                   1                  6       0.286      1.0   \n",
              "\n",
              "        fiveYearsProperty subway  district  communityAverage  \n",
              "216964                1.0    0.0         4           49957.0  \n",
              "298067                1.0    1.0        10          121898.0  \n",
              "208870                1.0    0.0         4           44850.0  \n",
              "268137                1.0    1.0         8           64750.0  \n",
              "222453                1.0    1.0         2           52774.0  \n",
              "\n",
              "[5 rows x 26 columns]"
            ],
            "text/html": [
              "\n",
              "  <div id=\"df-2670d0a1-cc0c-4c86-b0f4-34f970330c5b\">\n",
              "    <div class=\"colab-df-container\">\n",
              "      <div>\n",
              "<style scoped>\n",
              "    .dataframe tbody tr th:only-of-type {\n",
              "        vertical-align: middle;\n",
              "    }\n",
              "\n",
              "    .dataframe tbody tr th {\n",
              "        vertical-align: top;\n",
              "    }\n",
              "\n",
              "    .dataframe thead th {\n",
              "        text-align: right;\n",
              "    }\n",
              "</style>\n",
              "<table border=\"1\" class=\"dataframe\">\n",
              "  <thead>\n",
              "    <tr style=\"text-align: right;\">\n",
              "      <th></th>\n",
              "      <th>url</th>\n",
              "      <th>id</th>\n",
              "      <th>Lng</th>\n",
              "      <th>Lat</th>\n",
              "      <th>Cid</th>\n",
              "      <th>tradeTime</th>\n",
              "      <th>DOM</th>\n",
              "      <th>followers</th>\n",
              "      <th>totalPrice</th>\n",
              "      <th>price</th>\n",
              "      <th>...</th>\n",
              "      <th>buildingType</th>\n",
              "      <th>constructionTime</th>\n",
              "      <th>renovationCondition</th>\n",
              "      <th>buildingStructure</th>\n",
              "      <th>ladderRatio</th>\n",
              "      <th>elevator</th>\n",
              "      <th>fiveYearsProperty</th>\n",
              "      <th>subway</th>\n",
              "      <th>district</th>\n",
              "      <th>communityAverage</th>\n",
              "    </tr>\n",
              "  </thead>\n",
              "  <tbody>\n",
              "    <tr>\n",
              "      <th>216964</th>\n",
              "      <td>https://bj.lianjia.com/chengjiao/BJDX91342133....</td>\n",
              "      <td>BJDX91342133</td>\n",
              "      <td>116.450891</td>\n",
              "      <td>39.822298</td>\n",
              "      <td>1111027378846</td>\n",
              "      <td>2016-05-11</td>\n",
              "      <td>1.0</td>\n",
              "      <td>57</td>\n",
              "      <td>368.0</td>\n",
              "      <td>28764</td>\n",
              "      <td>...</td>\n",
              "      <td>3.0</td>\n",
              "      <td>2005</td>\n",
              "      <td>3</td>\n",
              "      <td>6</td>\n",
              "      <td>0.500</td>\n",
              "      <td>1.0</td>\n",
              "      <td>1.0</td>\n",
              "      <td>0.0</td>\n",
              "      <td>4</td>\n",
              "      <td>49957.0</td>\n",
              "    </tr>\n",
              "    <tr>\n",
              "      <th>298067</th>\n",
              "      <td>https://bj.lianjia.com/chengjiao/BJXC84936233....</td>\n",
              "      <td>BJXC84936233</td>\n",
              "      <td>116.391726</td>\n",
              "      <td>39.978788</td>\n",
              "      <td>1111027382272</td>\n",
              "      <td>2012-12-01</td>\n",
              "      <td>NaN</td>\n",
              "      <td>0</td>\n",
              "      <td>230.0</td>\n",
              "      <td>43727</td>\n",
              "      <td>...</td>\n",
              "      <td>4.0</td>\n",
              "      <td>1983</td>\n",
              "      <td>1</td>\n",
              "      <td>2</td>\n",
              "      <td>0.250</td>\n",
              "      <td>0.0</td>\n",
              "      <td>1.0</td>\n",
              "      <td>1.0</td>\n",
              "      <td>10</td>\n",
              "      <td>121898.0</td>\n",
              "    </tr>\n",
              "    <tr>\n",
              "      <th>208870</th>\n",
              "      <td>https://bj.lianjia.com/chengjiao/BJDX84793220....</td>\n",
              "      <td>BJDX84793220</td>\n",
              "      <td>116.460643</td>\n",
              "      <td>39.806976</td>\n",
              "      <td>1111027378386</td>\n",
              "      <td>2012-08-12</td>\n",
              "      <td>NaN</td>\n",
              "      <td>0</td>\n",
              "      <td>225.0</td>\n",
              "      <td>18351</td>\n",
              "      <td>...</td>\n",
              "      <td>3.0</td>\n",
              "      <td>2001</td>\n",
              "      <td>1</td>\n",
              "      <td>6</td>\n",
              "      <td>0.500</td>\n",
              "      <td>1.0</td>\n",
              "      <td>1.0</td>\n",
              "      <td>0.0</td>\n",
              "      <td>4</td>\n",
              "      <td>44850.0</td>\n",
              "    </tr>\n",
              "    <tr>\n",
              "      <th>268137</th>\n",
              "      <td>https://bj.lianjia.com/chengjiao/BJHD92245933....</td>\n",
              "      <td>BJHD92245933</td>\n",
              "      <td>116.364365</td>\n",
              "      <td>40.069487</td>\n",
              "      <td>1111027382307</td>\n",
              "      <td>2016-05-30</td>\n",
              "      <td>NaN</td>\n",
              "      <td>20</td>\n",
              "      <td>519.0</td>\n",
              "      <td>44788</td>\n",
              "      <td>...</td>\n",
              "      <td>3.0</td>\n",
              "      <td>2004</td>\n",
              "      <td>4</td>\n",
              "      <td>6</td>\n",
              "      <td>0.500</td>\n",
              "      <td>1.0</td>\n",
              "      <td>1.0</td>\n",
              "      <td>1.0</td>\n",
              "      <td>8</td>\n",
              "      <td>64750.0</td>\n",
              "    </tr>\n",
              "    <tr>\n",
              "      <th>222453</th>\n",
              "      <td>https://bj.lianjia.com/chengjiao/BJFT84690408....</td>\n",
              "      <td>BJFT84690408</td>\n",
              "      <td>116.426617</td>\n",
              "      <td>39.867648</td>\n",
              "      <td>1111027377942</td>\n",
              "      <td>2012-08-15</td>\n",
              "      <td>NaN</td>\n",
              "      <td>0</td>\n",
              "      <td>183.0</td>\n",
              "      <td>26849</td>\n",
              "      <td>...</td>\n",
              "      <td>3.0</td>\n",
              "      <td>1998</td>\n",
              "      <td>1</td>\n",
              "      <td>6</td>\n",
              "      <td>0.286</td>\n",
              "      <td>1.0</td>\n",
              "      <td>1.0</td>\n",
              "      <td>1.0</td>\n",
              "      <td>2</td>\n",
              "      <td>52774.0</td>\n",
              "    </tr>\n",
              "  </tbody>\n",
              "</table>\n",
              "<p>5 rows × 26 columns</p>\n",
              "</div>\n",
              "      <button class=\"colab-df-convert\" onclick=\"convertToInteractive('df-2670d0a1-cc0c-4c86-b0f4-34f970330c5b')\"\n",
              "              title=\"Convert this dataframe to an interactive table.\"\n",
              "              style=\"display:none;\">\n",
              "        \n",
              "  <svg xmlns=\"http://www.w3.org/2000/svg\" height=\"24px\"viewBox=\"0 0 24 24\"\n",
              "       width=\"24px\">\n",
              "    <path d=\"M0 0h24v24H0V0z\" fill=\"none\"/>\n",
              "    <path d=\"M18.56 5.44l.94 2.06.94-2.06 2.06-.94-2.06-.94-.94-2.06-.94 2.06-2.06.94zm-11 1L8.5 8.5l.94-2.06 2.06-.94-2.06-.94L8.5 2.5l-.94 2.06-2.06.94zm10 10l.94 2.06.94-2.06 2.06-.94-2.06-.94-.94-2.06-.94 2.06-2.06.94z\"/><path d=\"M17.41 7.96l-1.37-1.37c-.4-.4-.92-.59-1.43-.59-.52 0-1.04.2-1.43.59L10.3 9.45l-7.72 7.72c-.78.78-.78 2.05 0 2.83L4 21.41c.39.39.9.59 1.41.59.51 0 1.02-.2 1.41-.59l7.78-7.78 2.81-2.81c.8-.78.8-2.07 0-2.86zM5.41 20L4 18.59l7.72-7.72 1.47 1.35L5.41 20z\"/>\n",
              "  </svg>\n",
              "      </button>\n",
              "      \n",
              "  <style>\n",
              "    .colab-df-container {\n",
              "      display:flex;\n",
              "      flex-wrap:wrap;\n",
              "      gap: 12px;\n",
              "    }\n",
              "\n",
              "    .colab-df-convert {\n",
              "      background-color: #E8F0FE;\n",
              "      border: none;\n",
              "      border-radius: 50%;\n",
              "      cursor: pointer;\n",
              "      display: none;\n",
              "      fill: #1967D2;\n",
              "      height: 32px;\n",
              "      padding: 0 0 0 0;\n",
              "      width: 32px;\n",
              "    }\n",
              "\n",
              "    .colab-df-convert:hover {\n",
              "      background-color: #E2EBFA;\n",
              "      box-shadow: 0px 1px 2px rgba(60, 64, 67, 0.3), 0px 1px 3px 1px rgba(60, 64, 67, 0.15);\n",
              "      fill: #174EA6;\n",
              "    }\n",
              "\n",
              "    [theme=dark] .colab-df-convert {\n",
              "      background-color: #3B4455;\n",
              "      fill: #D2E3FC;\n",
              "    }\n",
              "\n",
              "    [theme=dark] .colab-df-convert:hover {\n",
              "      background-color: #434B5C;\n",
              "      box-shadow: 0px 1px 3px 1px rgba(0, 0, 0, 0.15);\n",
              "      filter: drop-shadow(0px 1px 2px rgba(0, 0, 0, 0.3));\n",
              "      fill: #FFFFFF;\n",
              "    }\n",
              "  </style>\n",
              "\n",
              "      <script>\n",
              "        const buttonEl =\n",
              "          document.querySelector('#df-2670d0a1-cc0c-4c86-b0f4-34f970330c5b button.colab-df-convert');\n",
              "        buttonEl.style.display =\n",
              "          google.colab.kernel.accessAllowed ? 'block' : 'none';\n",
              "\n",
              "        async function convertToInteractive(key) {\n",
              "          const element = document.querySelector('#df-2670d0a1-cc0c-4c86-b0f4-34f970330c5b');\n",
              "          const dataTable =\n",
              "            await google.colab.kernel.invokeFunction('convertToInteractive',\n",
              "                                                     [key], {});\n",
              "          if (!dataTable) return;\n",
              "\n",
              "          const docLinkHtml = 'Like what you see? Visit the ' +\n",
              "            '<a target=\"_blank\" href=https://colab.research.google.com/notebooks/data_table.ipynb>data table notebook</a>'\n",
              "            + ' to learn more about interactive tables.';\n",
              "          element.innerHTML = '';\n",
              "          dataTable['output_type'] = 'display_data';\n",
              "          await google.colab.output.renderOutput(dataTable, element);\n",
              "          const docLink = document.createElement('div');\n",
              "          docLink.innerHTML = docLinkHtml;\n",
              "          element.appendChild(docLink);\n",
              "        }\n",
              "      </script>\n",
              "    </div>\n",
              "  </div>\n",
              "  "
            ]
          },
          "metadata": {},
          "execution_count": 12
        }
      ]
    },
    {
      "cell_type": "markdown",
      "source": [
        "Данный датасет подойдет для задач прогнозирования цены на недвижимость в дальнейшей перспективе (из-за достаточного горизонта обучающих данных). Разграничители по типу: наличие метро, количество комнат, лифтов оказывает непосредственное влияние на цену такого жилья.\n",
        "\n",
        "Однако использовать эту информацию для прогноза с горизонтом 20-30 лет крайне не рекомендуется, поскольку демография и ситуация с ковидом довольно сильно изменит вероятность угадывания нашей системы.\n",
        "\n",
        "Также датасет подходит для визуализации временных данных о торгах и отображении различных геоданных на основе представленных в таблицах зависимотях\n"
      ],
      "metadata": {
        "id": "F-pQiZSqVOyO"
      }
    },
    {
      "cell_type": "markdown",
      "source": [
        "В датасете есть проблема с унификацией типов данных и их описанием - в источнике нету корректного описания неокторых столбцов, а некоторые столбцы содержат несоотвествующие формату значения, поэтому было решено не использовать этот датасет."
      ],
      "metadata": {
        "id": "POoaOLtOKi04"
      }
    },
    {
      "cell_type": "markdown",
      "source": [
        "### Предполагаемые Гипотезы\n",
        "\n",
        " "
      ],
      "metadata": {
        "id": "CdN7RuOOCj11"
      }
    },
    {
      "cell_type": "markdown",
      "source": [
        "1. Стоимость квартиры с где кухонь больше чем гостинных выше, нежели чем в квартирах, где гостинных больше чем кухонь\n",
        "2. Одни типы построек преобладают по отношению к другим в зависимости от периода постройки\n",
        "3. Размер среднего количества лестниц на жителя увеличивает цену жилплощади\n",
        "4. В центральных районах лифтов меньше, чем в окрайнах\n",
        "5. Высота дома влияет на общее число комнат в доме (чем выше высота тем их меньше)\n",
        "6. Наличие лифта в доме больше влияет на цену, чем наличие метро\n",
        "7. В квартирах с владением больше пяти лет цена выше, нежели чем в квартирах, которыми владеют меньше 5 лет\n",
        "8. Количество следящих за транзакциями в центре города выше, чем в окраинах\n",
        "9. Количество ванных комнат влияет на тип постройки\n",
        "10. Зданий из дерева и кирпича больше всего относительно других типов\n",
        "11. Наличие ванной комнаты преобладает в зданиях из плит\n",
        "12. Количество зданий рядом с метро больше, нежели зданий у которых рядом метро нет"
      ],
      "metadata": {
        "id": "sr2ZVpRGQ87E"
      }
    },
    {
      "cell_type": "markdown",
      "source": [
        "##Пожары в Англии"
      ],
      "metadata": {
        "id": "UQd3Nia8r4SP"
      }
    },
    {
      "cell_type": "code",
      "source": [
        "fires = uk_fires.copy()\n",
        "fires=fires.dtypes.to_frame()\n",
        "fires.columns=[\"Тип данных\"]\n",
        "fires[\"Шкала\"] = [\"Номер инцидента\", \"Дата звонка\", \"Год звонка\", \"Время звонка\", \"Час звонка\", \"Категироя инцидента\",\n",
        "                  \"Причина остановки звонка\", \"Тип спецслужбы\", \"Категория имущества\", \"Сгоревшее имущество\",\n",
        "                  \"Тип адреса\", \"Почтовый индекс\", \"Почтовый индекс района\", \"Уникальный справочный номер объекта\",\n",
        "                  \"Уникальный идентификационный номер улицы\", \"Код района\", \"Название района\", \"Название района (правильный регистр)\",\n",
        "                  \"Код района\", \"Название района\", \"Название района (новое имя)\", \"Восточный медиан\", \"Северная широта\",\n",
        "                  \"Восточный медиан (округленный)\", \"Северная широта (округленная)\", \"Широта\", \"Долгота\", \"FRS\", \"Пожарная станция\",\n",
        "                  \"Время прибытия первой машины\", \"Станция первой машины\", \"Время прибытия второй машины\", \"Станция второй машины\",\n",
        "                  \"Количество учавстсвовавших станций\", \"Количество учавстсвующих машин\", \"Количество машин\", \"Количество часов\", \"Стоимость\", \"Количество звонков\"]\n",
        "fires.index.name =\"Признак\"\n",
        "fires"
      ],
      "metadata": {
        "id": "C0xHJXpFWn9c",
        "colab": {
          "base_uri": "https://localhost:8080/",
          "height": 1000
        },
        "outputId": "0df0da34-eda2-40c9-9201-080471eae1ad"
      },
      "execution_count": null,
      "outputs": [
        {
          "output_type": "execute_result",
          "data": {
            "text/plain": [
              "                                       Тип данных  \\\n",
              "Признак                                             \n",
              "IncidentNumber                             object   \n",
              "DateOfCall                                 object   \n",
              "CalYear                                     int64   \n",
              "TimeOfCall                                 object   \n",
              "HourOfCall                                  int64   \n",
              "IncidentGroup                              object   \n",
              "StopCodeDescription                        object   \n",
              "SpecialServiceType                         object   \n",
              "PropertyCategory                           object   \n",
              "PropertyType                               object   \n",
              "AddressQualifier                           object   \n",
              "Postcode_full                              object   \n",
              "Postcode_district                          object   \n",
              "UPRN                                        int64   \n",
              "USRN                                        int64   \n",
              "IncGeo_BoroughCode                         object   \n",
              "IncGeo_BoroughName                         object   \n",
              "ProperCase                                 object   \n",
              "IncGeo_WardCode                            object   \n",
              "IncGeo_WardName                            object   \n",
              "IncGeo_WardNameNew                         object   \n",
              "Easting_m                                 float64   \n",
              "Northing_m                                float64   \n",
              "Easting_rounded                             int64   \n",
              "Northing_rounded                            int64   \n",
              "Latitude                                  float64   \n",
              "Longitude                                 float64   \n",
              "FRS                                        object   \n",
              "IncidentStationGround                      object   \n",
              "FirstPumpArriving_AttendanceTime          float64   \n",
              "FirstPumpArriving_DeployedFromStation      object   \n",
              "SecondPumpArriving_AttendanceTime         float64   \n",
              "SecondPumpArriving_DeployedFromStation     object   \n",
              "NumStationsWithPumpsAttending             float64   \n",
              "NumPumpsAttending                         float64   \n",
              "PumpCount                                 float64   \n",
              "PumpHoursRoundUp                          float64   \n",
              "Notional Cost (£)                         float64   \n",
              "NumCalls                                  float64   \n",
              "\n",
              "                                                                           Шкала  \n",
              "Признак                                                                           \n",
              "IncidentNumber                                                   Номер инцидента  \n",
              "DateOfCall                                                           Дата звонка  \n",
              "CalYear                                                               Год звонка  \n",
              "TimeOfCall                                                          Время звонка  \n",
              "HourOfCall                                                            Час звонка  \n",
              "IncidentGroup                                                Категироя инцидента  \n",
              "StopCodeDescription                                     Причина остановки звонка  \n",
              "SpecialServiceType                                                Тип спецслужбы  \n",
              "PropertyCategory                                             Категория имущества  \n",
              "PropertyType                                                 Сгоревшее имущество  \n",
              "AddressQualifier                                                      Тип адреса  \n",
              "Postcode_full                                                    Почтовый индекс  \n",
              "Postcode_district                                         Почтовый индекс района  \n",
              "UPRN                                         Уникальный справочный номер объекта  \n",
              "USRN                                    Уникальный идентификационный номер улицы  \n",
              "IncGeo_BoroughCode                                                    Код района  \n",
              "IncGeo_BoroughName                                               Название района  \n",
              "ProperCase                                  Название района (правильный регистр)  \n",
              "IncGeo_WardCode                                                       Код района  \n",
              "IncGeo_WardName                                                  Название района  \n",
              "IncGeo_WardNameNew                                   Название района (новое имя)  \n",
              "Easting_m                                                       Восточный медиан  \n",
              "Northing_m                                                       Северная широта  \n",
              "Easting_rounded                                   Восточный медиан (округленный)  \n",
              "Northing_rounded                                   Северная широта (округленная)  \n",
              "Latitude                                                                  Широта  \n",
              "Longitude                                                                Долгота  \n",
              "FRS                                                                          FRS  \n",
              "IncidentStationGround                                           Пожарная станция  \n",
              "FirstPumpArriving_AttendanceTime                    Время прибытия первой машины  \n",
              "FirstPumpArriving_DeployedFromStation                      Станция первой машины  \n",
              "SecondPumpArriving_AttendanceTime                   Время прибытия второй машины  \n",
              "SecondPumpArriving_DeployedFromStation                     Станция второй машины  \n",
              "NumStationsWithPumpsAttending                 Количество учавстсвовавших станций  \n",
              "NumPumpsAttending                                 Количество учавстсвующих машин  \n",
              "PumpCount                                                       Количество машин  \n",
              "PumpHoursRoundUp                                                Количество часов  \n",
              "Notional Cost (£)                                                      Стоимость  \n",
              "NumCalls                                                      Количество звонков  "
            ],
            "text/html": [
              "\n",
              "  <div id=\"df-8d7783f1-2024-4b0f-b880-76fdbf135a37\">\n",
              "    <div class=\"colab-df-container\">\n",
              "      <div>\n",
              "<style scoped>\n",
              "    .dataframe tbody tr th:only-of-type {\n",
              "        vertical-align: middle;\n",
              "    }\n",
              "\n",
              "    .dataframe tbody tr th {\n",
              "        vertical-align: top;\n",
              "    }\n",
              "\n",
              "    .dataframe thead th {\n",
              "        text-align: right;\n",
              "    }\n",
              "</style>\n",
              "<table border=\"1\" class=\"dataframe\">\n",
              "  <thead>\n",
              "    <tr style=\"text-align: right;\">\n",
              "      <th></th>\n",
              "      <th>Тип данных</th>\n",
              "      <th>Шкала</th>\n",
              "    </tr>\n",
              "    <tr>\n",
              "      <th>Признак</th>\n",
              "      <th></th>\n",
              "      <th></th>\n",
              "    </tr>\n",
              "  </thead>\n",
              "  <tbody>\n",
              "    <tr>\n",
              "      <th>IncidentNumber</th>\n",
              "      <td>object</td>\n",
              "      <td>Номер инцидента</td>\n",
              "    </tr>\n",
              "    <tr>\n",
              "      <th>DateOfCall</th>\n",
              "      <td>object</td>\n",
              "      <td>Дата звонка</td>\n",
              "    </tr>\n",
              "    <tr>\n",
              "      <th>CalYear</th>\n",
              "      <td>int64</td>\n",
              "      <td>Год звонка</td>\n",
              "    </tr>\n",
              "    <tr>\n",
              "      <th>TimeOfCall</th>\n",
              "      <td>object</td>\n",
              "      <td>Время звонка</td>\n",
              "    </tr>\n",
              "    <tr>\n",
              "      <th>HourOfCall</th>\n",
              "      <td>int64</td>\n",
              "      <td>Час звонка</td>\n",
              "    </tr>\n",
              "    <tr>\n",
              "      <th>IncidentGroup</th>\n",
              "      <td>object</td>\n",
              "      <td>Категироя инцидента</td>\n",
              "    </tr>\n",
              "    <tr>\n",
              "      <th>StopCodeDescription</th>\n",
              "      <td>object</td>\n",
              "      <td>Причина остановки звонка</td>\n",
              "    </tr>\n",
              "    <tr>\n",
              "      <th>SpecialServiceType</th>\n",
              "      <td>object</td>\n",
              "      <td>Тип спецслужбы</td>\n",
              "    </tr>\n",
              "    <tr>\n",
              "      <th>PropertyCategory</th>\n",
              "      <td>object</td>\n",
              "      <td>Категория имущества</td>\n",
              "    </tr>\n",
              "    <tr>\n",
              "      <th>PropertyType</th>\n",
              "      <td>object</td>\n",
              "      <td>Сгоревшее имущество</td>\n",
              "    </tr>\n",
              "    <tr>\n",
              "      <th>AddressQualifier</th>\n",
              "      <td>object</td>\n",
              "      <td>Тип адреса</td>\n",
              "    </tr>\n",
              "    <tr>\n",
              "      <th>Postcode_full</th>\n",
              "      <td>object</td>\n",
              "      <td>Почтовый индекс</td>\n",
              "    </tr>\n",
              "    <tr>\n",
              "      <th>Postcode_district</th>\n",
              "      <td>object</td>\n",
              "      <td>Почтовый индекс района</td>\n",
              "    </tr>\n",
              "    <tr>\n",
              "      <th>UPRN</th>\n",
              "      <td>int64</td>\n",
              "      <td>Уникальный справочный номер объекта</td>\n",
              "    </tr>\n",
              "    <tr>\n",
              "      <th>USRN</th>\n",
              "      <td>int64</td>\n",
              "      <td>Уникальный идентификационный номер улицы</td>\n",
              "    </tr>\n",
              "    <tr>\n",
              "      <th>IncGeo_BoroughCode</th>\n",
              "      <td>object</td>\n",
              "      <td>Код района</td>\n",
              "    </tr>\n",
              "    <tr>\n",
              "      <th>IncGeo_BoroughName</th>\n",
              "      <td>object</td>\n",
              "      <td>Название района</td>\n",
              "    </tr>\n",
              "    <tr>\n",
              "      <th>ProperCase</th>\n",
              "      <td>object</td>\n",
              "      <td>Название района (правильный регистр)</td>\n",
              "    </tr>\n",
              "    <tr>\n",
              "      <th>IncGeo_WardCode</th>\n",
              "      <td>object</td>\n",
              "      <td>Код района</td>\n",
              "    </tr>\n",
              "    <tr>\n",
              "      <th>IncGeo_WardName</th>\n",
              "      <td>object</td>\n",
              "      <td>Название района</td>\n",
              "    </tr>\n",
              "    <tr>\n",
              "      <th>IncGeo_WardNameNew</th>\n",
              "      <td>object</td>\n",
              "      <td>Название района (новое имя)</td>\n",
              "    </tr>\n",
              "    <tr>\n",
              "      <th>Easting_m</th>\n",
              "      <td>float64</td>\n",
              "      <td>Восточный медиан</td>\n",
              "    </tr>\n",
              "    <tr>\n",
              "      <th>Northing_m</th>\n",
              "      <td>float64</td>\n",
              "      <td>Северная широта</td>\n",
              "    </tr>\n",
              "    <tr>\n",
              "      <th>Easting_rounded</th>\n",
              "      <td>int64</td>\n",
              "      <td>Восточный медиан (округленный)</td>\n",
              "    </tr>\n",
              "    <tr>\n",
              "      <th>Northing_rounded</th>\n",
              "      <td>int64</td>\n",
              "      <td>Северная широта (округленная)</td>\n",
              "    </tr>\n",
              "    <tr>\n",
              "      <th>Latitude</th>\n",
              "      <td>float64</td>\n",
              "      <td>Широта</td>\n",
              "    </tr>\n",
              "    <tr>\n",
              "      <th>Longitude</th>\n",
              "      <td>float64</td>\n",
              "      <td>Долгота</td>\n",
              "    </tr>\n",
              "    <tr>\n",
              "      <th>FRS</th>\n",
              "      <td>object</td>\n",
              "      <td>FRS</td>\n",
              "    </tr>\n",
              "    <tr>\n",
              "      <th>IncidentStationGround</th>\n",
              "      <td>object</td>\n",
              "      <td>Пожарная станция</td>\n",
              "    </tr>\n",
              "    <tr>\n",
              "      <th>FirstPumpArriving_AttendanceTime</th>\n",
              "      <td>float64</td>\n",
              "      <td>Время прибытия первой машины</td>\n",
              "    </tr>\n",
              "    <tr>\n",
              "      <th>FirstPumpArriving_DeployedFromStation</th>\n",
              "      <td>object</td>\n",
              "      <td>Станция первой машины</td>\n",
              "    </tr>\n",
              "    <tr>\n",
              "      <th>SecondPumpArriving_AttendanceTime</th>\n",
              "      <td>float64</td>\n",
              "      <td>Время прибытия второй машины</td>\n",
              "    </tr>\n",
              "    <tr>\n",
              "      <th>SecondPumpArriving_DeployedFromStation</th>\n",
              "      <td>object</td>\n",
              "      <td>Станция второй машины</td>\n",
              "    </tr>\n",
              "    <tr>\n",
              "      <th>NumStationsWithPumpsAttending</th>\n",
              "      <td>float64</td>\n",
              "      <td>Количество учавстсвовавших станций</td>\n",
              "    </tr>\n",
              "    <tr>\n",
              "      <th>NumPumpsAttending</th>\n",
              "      <td>float64</td>\n",
              "      <td>Количество учавстсвующих машин</td>\n",
              "    </tr>\n",
              "    <tr>\n",
              "      <th>PumpCount</th>\n",
              "      <td>float64</td>\n",
              "      <td>Количество машин</td>\n",
              "    </tr>\n",
              "    <tr>\n",
              "      <th>PumpHoursRoundUp</th>\n",
              "      <td>float64</td>\n",
              "      <td>Количество часов</td>\n",
              "    </tr>\n",
              "    <tr>\n",
              "      <th>Notional Cost (£)</th>\n",
              "      <td>float64</td>\n",
              "      <td>Стоимость</td>\n",
              "    </tr>\n",
              "    <tr>\n",
              "      <th>NumCalls</th>\n",
              "      <td>float64</td>\n",
              "      <td>Количество звонков</td>\n",
              "    </tr>\n",
              "  </tbody>\n",
              "</table>\n",
              "</div>\n",
              "      <button class=\"colab-df-convert\" onclick=\"convertToInteractive('df-8d7783f1-2024-4b0f-b880-76fdbf135a37')\"\n",
              "              title=\"Convert this dataframe to an interactive table.\"\n",
              "              style=\"display:none;\">\n",
              "        \n",
              "  <svg xmlns=\"http://www.w3.org/2000/svg\" height=\"24px\"viewBox=\"0 0 24 24\"\n",
              "       width=\"24px\">\n",
              "    <path d=\"M0 0h24v24H0V0z\" fill=\"none\"/>\n",
              "    <path d=\"M18.56 5.44l.94 2.06.94-2.06 2.06-.94-2.06-.94-.94-2.06-.94 2.06-2.06.94zm-11 1L8.5 8.5l.94-2.06 2.06-.94-2.06-.94L8.5 2.5l-.94 2.06-2.06.94zm10 10l.94 2.06.94-2.06 2.06-.94-2.06-.94-.94-2.06-.94 2.06-2.06.94z\"/><path d=\"M17.41 7.96l-1.37-1.37c-.4-.4-.92-.59-1.43-.59-.52 0-1.04.2-1.43.59L10.3 9.45l-7.72 7.72c-.78.78-.78 2.05 0 2.83L4 21.41c.39.39.9.59 1.41.59.51 0 1.02-.2 1.41-.59l7.78-7.78 2.81-2.81c.8-.78.8-2.07 0-2.86zM5.41 20L4 18.59l7.72-7.72 1.47 1.35L5.41 20z\"/>\n",
              "  </svg>\n",
              "      </button>\n",
              "      \n",
              "  <style>\n",
              "    .colab-df-container {\n",
              "      display:flex;\n",
              "      flex-wrap:wrap;\n",
              "      gap: 12px;\n",
              "    }\n",
              "\n",
              "    .colab-df-convert {\n",
              "      background-color: #E8F0FE;\n",
              "      border: none;\n",
              "      border-radius: 50%;\n",
              "      cursor: pointer;\n",
              "      display: none;\n",
              "      fill: #1967D2;\n",
              "      height: 32px;\n",
              "      padding: 0 0 0 0;\n",
              "      width: 32px;\n",
              "    }\n",
              "\n",
              "    .colab-df-convert:hover {\n",
              "      background-color: #E2EBFA;\n",
              "      box-shadow: 0px 1px 2px rgba(60, 64, 67, 0.3), 0px 1px 3px 1px rgba(60, 64, 67, 0.15);\n",
              "      fill: #174EA6;\n",
              "    }\n",
              "\n",
              "    [theme=dark] .colab-df-convert {\n",
              "      background-color: #3B4455;\n",
              "      fill: #D2E3FC;\n",
              "    }\n",
              "\n",
              "    [theme=dark] .colab-df-convert:hover {\n",
              "      background-color: #434B5C;\n",
              "      box-shadow: 0px 1px 3px 1px rgba(0, 0, 0, 0.15);\n",
              "      filter: drop-shadow(0px 1px 2px rgba(0, 0, 0, 0.3));\n",
              "      fill: #FFFFFF;\n",
              "    }\n",
              "  </style>\n",
              "\n",
              "      <script>\n",
              "        const buttonEl =\n",
              "          document.querySelector('#df-8d7783f1-2024-4b0f-b880-76fdbf135a37 button.colab-df-convert');\n",
              "        buttonEl.style.display =\n",
              "          google.colab.kernel.accessAllowed ? 'block' : 'none';\n",
              "\n",
              "        async function convertToInteractive(key) {\n",
              "          const element = document.querySelector('#df-8d7783f1-2024-4b0f-b880-76fdbf135a37');\n",
              "          const dataTable =\n",
              "            await google.colab.kernel.invokeFunction('convertToInteractive',\n",
              "                                                     [key], {});\n",
              "          if (!dataTable) return;\n",
              "\n",
              "          const docLinkHtml = 'Like what you see? Visit the ' +\n",
              "            '<a target=\"_blank\" href=https://colab.research.google.com/notebooks/data_table.ipynb>data table notebook</a>'\n",
              "            + ' to learn more about interactive tables.';\n",
              "          element.innerHTML = '';\n",
              "          dataTable['output_type'] = 'display_data';\n",
              "          await google.colab.output.renderOutput(dataTable, element);\n",
              "          const docLink = document.createElement('div');\n",
              "          docLink.innerHTML = docLinkHtml;\n",
              "          element.appendChild(docLink);\n",
              "        }\n",
              "      </script>\n",
              "    </div>\n",
              "  </div>\n",
              "  "
            ]
          },
          "metadata": {},
          "execution_count": 13
        }
      ]
    },
    {
      "cell_type": "code",
      "source": [
        "uk_fires.sample(5)"
      ],
      "metadata": {
        "colab": {
          "base_uri": "https://localhost:8080/",
          "height": 438
        },
        "id": "RAygLNftSLjY",
        "outputId": "a54a1022-c34b-4a02-9dcd-2332b6d5efe7"
      },
      "execution_count": null,
      "outputs": [
        {
          "output_type": "execute_result",
          "data": {
            "text/plain": [
              "         IncidentNumber   DateOfCall  CalYear TimeOfCall  HourOfCall  \\\n",
              "115610  017266-09022020  09 Feb 2020     2020   16:12:45          16   \n",
              "115445  017001-09022020  09 Feb 2020     2020   11:52:46          11   \n",
              "327997  024156-18022022  18 Feb 2022     2022   14:18:47          14   \n",
              "85156   144542-24102019  24 Oct 2019     2019   09:27:13           9   \n",
              "325131  019188-10022022  10 Feb 2022     2022   00:56:22           0   \n",
              "\n",
              "          IncidentGroup StopCodeDescription     SpecialServiceType  \\\n",
              "115610  Special Service     Special Service  Making Safe (not RTC)   \n",
              "115445  Special Service     Special Service  Making Safe (not RTC)   \n",
              "327997             Fire      Secondary Fire                    NaN   \n",
              "85156   Special Service     Special Service   Effecting entry/exit   \n",
              "325131  Special Service     Special Service   Effecting entry/exit   \n",
              "\n",
              "       PropertyCategory                                       PropertyType  \\\n",
              "115610          Outdoor                                        Tree scrub    \n",
              "115445         Dwelling                          House - single occupancy    \n",
              "327997          Outdoor                             Road surface/pavement    \n",
              "85156   Non Residential           Train station - platform (below ground)    \n",
              "325131         Dwelling  Purpose Built Flats/Maisonettes - Up to 3 stor...   \n",
              "\n",
              "        ... FirstPumpArriving_AttendanceTime  \\\n",
              "115610  ...                            190.0   \n",
              "115445  ...                            332.0   \n",
              "327997  ...                            376.0   \n",
              "85156   ...                            342.0   \n",
              "325131  ...                            441.0   \n",
              "\n",
              "       FirstPumpArriving_DeployedFromStation  \\\n",
              "115610                                Harrow   \n",
              "115445                           Whitechapel   \n",
              "327997                                 Hayes   \n",
              "85156                             Paddington   \n",
              "325131                             Beckenham   \n",
              "\n",
              "       SecondPumpArriving_AttendanceTime  \\\n",
              "115610                               NaN   \n",
              "115445                               NaN   \n",
              "327997                             526.0   \n",
              "85156                                NaN   \n",
              "325131                               NaN   \n",
              "\n",
              "        SecondPumpArriving_DeployedFromStation  NumStationsWithPumpsAttending  \\\n",
              "115610                                     NaN                            1.0   \n",
              "115445                                     NaN                            1.0   \n",
              "327997                                Northolt                            2.0   \n",
              "85156                                      NaN                            1.0   \n",
              "325131                                     NaN                            1.0   \n",
              "\n",
              "       NumPumpsAttending PumpCount PumpHoursRoundUp Notional Cost (£) NumCalls  \n",
              "115610               1.0       1.0              1.0             339.0      1.0  \n",
              "115445               1.0       1.0              2.0             678.0      1.0  \n",
              "327997               2.0       2.0              1.0             352.0      9.0  \n",
              "85156                1.0       1.0              1.0             339.0      1.0  \n",
              "325131               1.0       1.0              1.0             352.0      1.0  \n",
              "\n",
              "[5 rows x 39 columns]"
            ],
            "text/html": [
              "\n",
              "  <div id=\"df-7902e39d-52f8-44e2-8300-8f5922e4484e\">\n",
              "    <div class=\"colab-df-container\">\n",
              "      <div>\n",
              "<style scoped>\n",
              "    .dataframe tbody tr th:only-of-type {\n",
              "        vertical-align: middle;\n",
              "    }\n",
              "\n",
              "    .dataframe tbody tr th {\n",
              "        vertical-align: top;\n",
              "    }\n",
              "\n",
              "    .dataframe thead th {\n",
              "        text-align: right;\n",
              "    }\n",
              "</style>\n",
              "<table border=\"1\" class=\"dataframe\">\n",
              "  <thead>\n",
              "    <tr style=\"text-align: right;\">\n",
              "      <th></th>\n",
              "      <th>IncidentNumber</th>\n",
              "      <th>DateOfCall</th>\n",
              "      <th>CalYear</th>\n",
              "      <th>TimeOfCall</th>\n",
              "      <th>HourOfCall</th>\n",
              "      <th>IncidentGroup</th>\n",
              "      <th>StopCodeDescription</th>\n",
              "      <th>SpecialServiceType</th>\n",
              "      <th>PropertyCategory</th>\n",
              "      <th>PropertyType</th>\n",
              "      <th>...</th>\n",
              "      <th>FirstPumpArriving_AttendanceTime</th>\n",
              "      <th>FirstPumpArriving_DeployedFromStation</th>\n",
              "      <th>SecondPumpArriving_AttendanceTime</th>\n",
              "      <th>SecondPumpArriving_DeployedFromStation</th>\n",
              "      <th>NumStationsWithPumpsAttending</th>\n",
              "      <th>NumPumpsAttending</th>\n",
              "      <th>PumpCount</th>\n",
              "      <th>PumpHoursRoundUp</th>\n",
              "      <th>Notional Cost (£)</th>\n",
              "      <th>NumCalls</th>\n",
              "    </tr>\n",
              "  </thead>\n",
              "  <tbody>\n",
              "    <tr>\n",
              "      <th>115610</th>\n",
              "      <td>017266-09022020</td>\n",
              "      <td>09 Feb 2020</td>\n",
              "      <td>2020</td>\n",
              "      <td>16:12:45</td>\n",
              "      <td>16</td>\n",
              "      <td>Special Service</td>\n",
              "      <td>Special Service</td>\n",
              "      <td>Making Safe (not RTC)</td>\n",
              "      <td>Outdoor</td>\n",
              "      <td>Tree scrub</td>\n",
              "      <td>...</td>\n",
              "      <td>190.0</td>\n",
              "      <td>Harrow</td>\n",
              "      <td>NaN</td>\n",
              "      <td>NaN</td>\n",
              "      <td>1.0</td>\n",
              "      <td>1.0</td>\n",
              "      <td>1.0</td>\n",
              "      <td>1.0</td>\n",
              "      <td>339.0</td>\n",
              "      <td>1.0</td>\n",
              "    </tr>\n",
              "    <tr>\n",
              "      <th>115445</th>\n",
              "      <td>017001-09022020</td>\n",
              "      <td>09 Feb 2020</td>\n",
              "      <td>2020</td>\n",
              "      <td>11:52:46</td>\n",
              "      <td>11</td>\n",
              "      <td>Special Service</td>\n",
              "      <td>Special Service</td>\n",
              "      <td>Making Safe (not RTC)</td>\n",
              "      <td>Dwelling</td>\n",
              "      <td>House - single occupancy</td>\n",
              "      <td>...</td>\n",
              "      <td>332.0</td>\n",
              "      <td>Whitechapel</td>\n",
              "      <td>NaN</td>\n",
              "      <td>NaN</td>\n",
              "      <td>1.0</td>\n",
              "      <td>1.0</td>\n",
              "      <td>1.0</td>\n",
              "      <td>2.0</td>\n",
              "      <td>678.0</td>\n",
              "      <td>1.0</td>\n",
              "    </tr>\n",
              "    <tr>\n",
              "      <th>327997</th>\n",
              "      <td>024156-18022022</td>\n",
              "      <td>18 Feb 2022</td>\n",
              "      <td>2022</td>\n",
              "      <td>14:18:47</td>\n",
              "      <td>14</td>\n",
              "      <td>Fire</td>\n",
              "      <td>Secondary Fire</td>\n",
              "      <td>NaN</td>\n",
              "      <td>Outdoor</td>\n",
              "      <td>Road surface/pavement</td>\n",
              "      <td>...</td>\n",
              "      <td>376.0</td>\n",
              "      <td>Hayes</td>\n",
              "      <td>526.0</td>\n",
              "      <td>Northolt</td>\n",
              "      <td>2.0</td>\n",
              "      <td>2.0</td>\n",
              "      <td>2.0</td>\n",
              "      <td>1.0</td>\n",
              "      <td>352.0</td>\n",
              "      <td>9.0</td>\n",
              "    </tr>\n",
              "    <tr>\n",
              "      <th>85156</th>\n",
              "      <td>144542-24102019</td>\n",
              "      <td>24 Oct 2019</td>\n",
              "      <td>2019</td>\n",
              "      <td>09:27:13</td>\n",
              "      <td>9</td>\n",
              "      <td>Special Service</td>\n",
              "      <td>Special Service</td>\n",
              "      <td>Effecting entry/exit</td>\n",
              "      <td>Non Residential</td>\n",
              "      <td>Train station - platform (below ground)</td>\n",
              "      <td>...</td>\n",
              "      <td>342.0</td>\n",
              "      <td>Paddington</td>\n",
              "      <td>NaN</td>\n",
              "      <td>NaN</td>\n",
              "      <td>1.0</td>\n",
              "      <td>1.0</td>\n",
              "      <td>1.0</td>\n",
              "      <td>1.0</td>\n",
              "      <td>339.0</td>\n",
              "      <td>1.0</td>\n",
              "    </tr>\n",
              "    <tr>\n",
              "      <th>325131</th>\n",
              "      <td>019188-10022022</td>\n",
              "      <td>10 Feb 2022</td>\n",
              "      <td>2022</td>\n",
              "      <td>00:56:22</td>\n",
              "      <td>0</td>\n",
              "      <td>Special Service</td>\n",
              "      <td>Special Service</td>\n",
              "      <td>Effecting entry/exit</td>\n",
              "      <td>Dwelling</td>\n",
              "      <td>Purpose Built Flats/Maisonettes - Up to 3 stor...</td>\n",
              "      <td>...</td>\n",
              "      <td>441.0</td>\n",
              "      <td>Beckenham</td>\n",
              "      <td>NaN</td>\n",
              "      <td>NaN</td>\n",
              "      <td>1.0</td>\n",
              "      <td>1.0</td>\n",
              "      <td>1.0</td>\n",
              "      <td>1.0</td>\n",
              "      <td>352.0</td>\n",
              "      <td>1.0</td>\n",
              "    </tr>\n",
              "  </tbody>\n",
              "</table>\n",
              "<p>5 rows × 39 columns</p>\n",
              "</div>\n",
              "      <button class=\"colab-df-convert\" onclick=\"convertToInteractive('df-7902e39d-52f8-44e2-8300-8f5922e4484e')\"\n",
              "              title=\"Convert this dataframe to an interactive table.\"\n",
              "              style=\"display:none;\">\n",
              "        \n",
              "  <svg xmlns=\"http://www.w3.org/2000/svg\" height=\"24px\"viewBox=\"0 0 24 24\"\n",
              "       width=\"24px\">\n",
              "    <path d=\"M0 0h24v24H0V0z\" fill=\"none\"/>\n",
              "    <path d=\"M18.56 5.44l.94 2.06.94-2.06 2.06-.94-2.06-.94-.94-2.06-.94 2.06-2.06.94zm-11 1L8.5 8.5l.94-2.06 2.06-.94-2.06-.94L8.5 2.5l-.94 2.06-2.06.94zm10 10l.94 2.06.94-2.06 2.06-.94-2.06-.94-.94-2.06-.94 2.06-2.06.94z\"/><path d=\"M17.41 7.96l-1.37-1.37c-.4-.4-.92-.59-1.43-.59-.52 0-1.04.2-1.43.59L10.3 9.45l-7.72 7.72c-.78.78-.78 2.05 0 2.83L4 21.41c.39.39.9.59 1.41.59.51 0 1.02-.2 1.41-.59l7.78-7.78 2.81-2.81c.8-.78.8-2.07 0-2.86zM5.41 20L4 18.59l7.72-7.72 1.47 1.35L5.41 20z\"/>\n",
              "  </svg>\n",
              "      </button>\n",
              "      \n",
              "  <style>\n",
              "    .colab-df-container {\n",
              "      display:flex;\n",
              "      flex-wrap:wrap;\n",
              "      gap: 12px;\n",
              "    }\n",
              "\n",
              "    .colab-df-convert {\n",
              "      background-color: #E8F0FE;\n",
              "      border: none;\n",
              "      border-radius: 50%;\n",
              "      cursor: pointer;\n",
              "      display: none;\n",
              "      fill: #1967D2;\n",
              "      height: 32px;\n",
              "      padding: 0 0 0 0;\n",
              "      width: 32px;\n",
              "    }\n",
              "\n",
              "    .colab-df-convert:hover {\n",
              "      background-color: #E2EBFA;\n",
              "      box-shadow: 0px 1px 2px rgba(60, 64, 67, 0.3), 0px 1px 3px 1px rgba(60, 64, 67, 0.15);\n",
              "      fill: #174EA6;\n",
              "    }\n",
              "\n",
              "    [theme=dark] .colab-df-convert {\n",
              "      background-color: #3B4455;\n",
              "      fill: #D2E3FC;\n",
              "    }\n",
              "\n",
              "    [theme=dark] .colab-df-convert:hover {\n",
              "      background-color: #434B5C;\n",
              "      box-shadow: 0px 1px 3px 1px rgba(0, 0, 0, 0.15);\n",
              "      filter: drop-shadow(0px 1px 2px rgba(0, 0, 0, 0.3));\n",
              "      fill: #FFFFFF;\n",
              "    }\n",
              "  </style>\n",
              "\n",
              "      <script>\n",
              "        const buttonEl =\n",
              "          document.querySelector('#df-7902e39d-52f8-44e2-8300-8f5922e4484e button.colab-df-convert');\n",
              "        buttonEl.style.display =\n",
              "          google.colab.kernel.accessAllowed ? 'block' : 'none';\n",
              "\n",
              "        async function convertToInteractive(key) {\n",
              "          const element = document.querySelector('#df-7902e39d-52f8-44e2-8300-8f5922e4484e');\n",
              "          const dataTable =\n",
              "            await google.colab.kernel.invokeFunction('convertToInteractive',\n",
              "                                                     [key], {});\n",
              "          if (!dataTable) return;\n",
              "\n",
              "          const docLinkHtml = 'Like what you see? Visit the ' +\n",
              "            '<a target=\"_blank\" href=https://colab.research.google.com/notebooks/data_table.ipynb>data table notebook</a>'\n",
              "            + ' to learn more about interactive tables.';\n",
              "          element.innerHTML = '';\n",
              "          dataTable['output_type'] = 'display_data';\n",
              "          await google.colab.output.renderOutput(dataTable, element);\n",
              "          const docLink = document.createElement('div');\n",
              "          docLink.innerHTML = docLinkHtml;\n",
              "          element.appendChild(docLink);\n",
              "        }\n",
              "      </script>\n",
              "    </div>\n",
              "  </div>\n",
              "  "
            ]
          },
          "metadata": {},
          "execution_count": 14
        }
      ]
    },
    {
      "cell_type": "markdown",
      "source": [
        "Данный датасет описывает пожары в Великобритании за три 2019-2022 года. Датасет подойдёт для прогнозирования пожаров в стране на будущее, и поможет грамотно распределить количество используемой техники по пожарным станциям.\n",
        "\n",
        "Датасет содержит достаточно много столбцов избыточной и дублироемой информации, что может стать причиной нарушения целостности данных, так что рекомендуется сделать предобработку данных\n",
        "\n",
        "Добавим предполагаемые гипотезы, с помощью которых картина причин и исходов пожаров станет более ясной:\n",
        "1. 2020 - ковидный год. Меньше людей выходило на улицы -> меньше шансов позвонить и предупредить о том, что на улице произошел пожар.\n",
        "2. Пожары зачастую возникают в летнее время суток на кораблях на выходных.\n",
        "3. Звонки пожарникам поступают в вечернее время, когда люди приходят с работы и могут физически позвонить + ночью ложатся спать (бдительность падает)\n",
        "4. Ложная тревога возникает чаще тогда, когда человек более активен (день-вечер + выходные)\n",
        "5. Пожарная тревога чаще срабатывает, когда пожар внутри помещения + чаще не срабатывает, когда пожар на улице\n",
        "6. Cигналка чаще обнаруживает пожар по выходным (датчик) Special Service в домах*\n",
        "7. Недвижимость горит чаще в выходные.\n",
        "8. В пятинцу из-за более короткого рабочего дня количество пожаров в квартирах на 1-2 часа увеличивается\n",
        "9. Время прибытия пожарной машины в северных регионах страны ниже, чем в более населенных южных.\n",
        "10. В доме, в которых живет один человек, вероятность срабатывания пожарной системы ниже, чем в более населенных домах (особенно во время рождества)\n",
        "11. В самолетах и лодках чаще всего сигнальная тревога срабатывает летом из-за ошибочного солнечного воздействия на приборы (преломление и пр.)\n",
        "12. Затопления происходят чаще всего летом\n",
        "13. Затопления происходят там, где находятся дома.\n",
        "14. Интервал между двумя прибытиями пожарных машин больше тогда, когда причиной пожара является срабатывание сигнализации\n",
        "15. Лодки людей, которые живут на северных территориях, тушат намного реже, а значит они догорают.\n",
        "16. Животных чаще применяют в ночное время суток зимой, когда человеческие рефлексы наиболее менее чувствительны\n",
        "\n",
        "К сожалению, в данном датасете присутствует достаточно много лишней и повторяющейся информации. Размах случаев слишком велик для анализа такого огромного количества факторов. Единственный возможный вариант - локализация своего взгляда на чем-то более конкретном."
      ],
      "metadata": {
        "id": "ornSfeyNzeyW"
      }
    },
    {
      "cell_type": "markdown",
      "source": [
        "## Самоубийства"
      ],
      "metadata": {
        "id": "jB0bR672ruFM"
      }
    },
    {
      "cell_type": "code",
      "execution_count": null,
      "metadata": {
        "id": "LYg6_N4vytnR",
        "colab": {
          "base_uri": "https://localhost:8080/",
          "height": 457
        },
        "outputId": "1d50c4dc-6269-4ffe-dc0a-49da316f2496"
      },
      "outputs": [
        {
          "output_type": "execute_result",
          "data": {
            "text/plain": [
              "                  Тип данных                      Шкала\n",
              "Признак                                                \n",
              "country               object                     Страны\n",
              "year                   int64                       Года\n",
              "sex                   object                  Пол (м/ж)\n",
              "age                   object     Возраст (в диапозонах)\n",
              "suicides_no            int64     Количество самоубийств\n",
              "population             int64                       Чел.\n",
              "suicides/100k pop    float64  Шт. на 100 тыс. население\n",
              "country-year          object                 Год-Страна\n",
              "HDI for year         float64     Индекс счастья (0-100)\n",
              " gpy                  object             ВВП годовой, $\n",
              "gdp_per_capita         int64             ВВП на душу, $\n",
              "generation            object     Наименование поколений"
            ],
            "text/html": [
              "\n",
              "  <div id=\"df-22ef3689-26cc-43ca-be49-ea6422a935db\">\n",
              "    <div class=\"colab-df-container\">\n",
              "      <div>\n",
              "<style scoped>\n",
              "    .dataframe tbody tr th:only-of-type {\n",
              "        vertical-align: middle;\n",
              "    }\n",
              "\n",
              "    .dataframe tbody tr th {\n",
              "        vertical-align: top;\n",
              "    }\n",
              "\n",
              "    .dataframe thead th {\n",
              "        text-align: right;\n",
              "    }\n",
              "</style>\n",
              "<table border=\"1\" class=\"dataframe\">\n",
              "  <thead>\n",
              "    <tr style=\"text-align: right;\">\n",
              "      <th></th>\n",
              "      <th>Тип данных</th>\n",
              "      <th>Шкала</th>\n",
              "    </tr>\n",
              "    <tr>\n",
              "      <th>Признак</th>\n",
              "      <th></th>\n",
              "      <th></th>\n",
              "    </tr>\n",
              "  </thead>\n",
              "  <tbody>\n",
              "    <tr>\n",
              "      <th>country</th>\n",
              "      <td>object</td>\n",
              "      <td>Страны</td>\n",
              "    </tr>\n",
              "    <tr>\n",
              "      <th>year</th>\n",
              "      <td>int64</td>\n",
              "      <td>Года</td>\n",
              "    </tr>\n",
              "    <tr>\n",
              "      <th>sex</th>\n",
              "      <td>object</td>\n",
              "      <td>Пол (м/ж)</td>\n",
              "    </tr>\n",
              "    <tr>\n",
              "      <th>age</th>\n",
              "      <td>object</td>\n",
              "      <td>Возраст (в диапозонах)</td>\n",
              "    </tr>\n",
              "    <tr>\n",
              "      <th>suicides_no</th>\n",
              "      <td>int64</td>\n",
              "      <td>Количество самоубийств</td>\n",
              "    </tr>\n",
              "    <tr>\n",
              "      <th>population</th>\n",
              "      <td>int64</td>\n",
              "      <td>Чел.</td>\n",
              "    </tr>\n",
              "    <tr>\n",
              "      <th>suicides/100k pop</th>\n",
              "      <td>float64</td>\n",
              "      <td>Шт. на 100 тыс. население</td>\n",
              "    </tr>\n",
              "    <tr>\n",
              "      <th>country-year</th>\n",
              "      <td>object</td>\n",
              "      <td>Год-Страна</td>\n",
              "    </tr>\n",
              "    <tr>\n",
              "      <th>HDI for year</th>\n",
              "      <td>float64</td>\n",
              "      <td>Индекс счастья (0-100)</td>\n",
              "    </tr>\n",
              "    <tr>\n",
              "      <th>gpy</th>\n",
              "      <td>object</td>\n",
              "      <td>ВВП годовой, $</td>\n",
              "    </tr>\n",
              "    <tr>\n",
              "      <th>gdp_per_capita</th>\n",
              "      <td>int64</td>\n",
              "      <td>ВВП на душу, $</td>\n",
              "    </tr>\n",
              "    <tr>\n",
              "      <th>generation</th>\n",
              "      <td>object</td>\n",
              "      <td>Наименование поколений</td>\n",
              "    </tr>\n",
              "  </tbody>\n",
              "</table>\n",
              "</div>\n",
              "      <button class=\"colab-df-convert\" onclick=\"convertToInteractive('df-22ef3689-26cc-43ca-be49-ea6422a935db')\"\n",
              "              title=\"Convert this dataframe to an interactive table.\"\n",
              "              style=\"display:none;\">\n",
              "        \n",
              "  <svg xmlns=\"http://www.w3.org/2000/svg\" height=\"24px\"viewBox=\"0 0 24 24\"\n",
              "       width=\"24px\">\n",
              "    <path d=\"M0 0h24v24H0V0z\" fill=\"none\"/>\n",
              "    <path d=\"M18.56 5.44l.94 2.06.94-2.06 2.06-.94-2.06-.94-.94-2.06-.94 2.06-2.06.94zm-11 1L8.5 8.5l.94-2.06 2.06-.94-2.06-.94L8.5 2.5l-.94 2.06-2.06.94zm10 10l.94 2.06.94-2.06 2.06-.94-2.06-.94-.94-2.06-.94 2.06-2.06.94z\"/><path d=\"M17.41 7.96l-1.37-1.37c-.4-.4-.92-.59-1.43-.59-.52 0-1.04.2-1.43.59L10.3 9.45l-7.72 7.72c-.78.78-.78 2.05 0 2.83L4 21.41c.39.39.9.59 1.41.59.51 0 1.02-.2 1.41-.59l7.78-7.78 2.81-2.81c.8-.78.8-2.07 0-2.86zM5.41 20L4 18.59l7.72-7.72 1.47 1.35L5.41 20z\"/>\n",
              "  </svg>\n",
              "      </button>\n",
              "      \n",
              "  <style>\n",
              "    .colab-df-container {\n",
              "      display:flex;\n",
              "      flex-wrap:wrap;\n",
              "      gap: 12px;\n",
              "    }\n",
              "\n",
              "    .colab-df-convert {\n",
              "      background-color: #E8F0FE;\n",
              "      border: none;\n",
              "      border-radius: 50%;\n",
              "      cursor: pointer;\n",
              "      display: none;\n",
              "      fill: #1967D2;\n",
              "      height: 32px;\n",
              "      padding: 0 0 0 0;\n",
              "      width: 32px;\n",
              "    }\n",
              "\n",
              "    .colab-df-convert:hover {\n",
              "      background-color: #E2EBFA;\n",
              "      box-shadow: 0px 1px 2px rgba(60, 64, 67, 0.3), 0px 1px 3px 1px rgba(60, 64, 67, 0.15);\n",
              "      fill: #174EA6;\n",
              "    }\n",
              "\n",
              "    [theme=dark] .colab-df-convert {\n",
              "      background-color: #3B4455;\n",
              "      fill: #D2E3FC;\n",
              "    }\n",
              "\n",
              "    [theme=dark] .colab-df-convert:hover {\n",
              "      background-color: #434B5C;\n",
              "      box-shadow: 0px 1px 3px 1px rgba(0, 0, 0, 0.15);\n",
              "      filter: drop-shadow(0px 1px 2px rgba(0, 0, 0, 0.3));\n",
              "      fill: #FFFFFF;\n",
              "    }\n",
              "  </style>\n",
              "\n",
              "      <script>\n",
              "        const buttonEl =\n",
              "          document.querySelector('#df-22ef3689-26cc-43ca-be49-ea6422a935db button.colab-df-convert');\n",
              "        buttonEl.style.display =\n",
              "          google.colab.kernel.accessAllowed ? 'block' : 'none';\n",
              "\n",
              "        async function convertToInteractive(key) {\n",
              "          const element = document.querySelector('#df-22ef3689-26cc-43ca-be49-ea6422a935db');\n",
              "          const dataTable =\n",
              "            await google.colab.kernel.invokeFunction('convertToInteractive',\n",
              "                                                     [key], {});\n",
              "          if (!dataTable) return;\n",
              "\n",
              "          const docLinkHtml = 'Like what you see? Visit the ' +\n",
              "            '<a target=\"_blank\" href=https://colab.research.google.com/notebooks/data_table.ipynb>data table notebook</a>'\n",
              "            + ' to learn more about interactive tables.';\n",
              "          element.innerHTML = '';\n",
              "          dataTable['output_type'] = 'display_data';\n",
              "          await google.colab.output.renderOutput(dataTable, element);\n",
              "          const docLink = document.createElement('div');\n",
              "          docLink.innerHTML = docLinkHtml;\n",
              "          element.appendChild(docLink);\n",
              "        }\n",
              "      </script>\n",
              "    </div>\n",
              "  </div>\n",
              "  "
            ]
          },
          "metadata": {},
          "execution_count": 15
        }
      ],
      "source": [
        "suicide = suicides.copy()\n",
        "suicides_describe=suicide.dtypes.to_frame()\n",
        "suicides_describe.columns=[\"Тип данных\"]\n",
        "suicides_describe[\"Шкала\"] = [\"Страны\", \"Года\", \"Пол (м/ж)\", \"Возраст (в диапозонах)\", \"Количество самоубийств\", \"Чел.\", \"Шт. на 100 тыс. население\",\"Год-Страна\" ,\"Индекс счастья (0-100)\" ,\"ВВП годовой, $\",\"ВВП на душу, $\",\"Наименование поколений\"]\n",
        "suicides_describe.index.name =\"Признак\"\n",
        "suicides_describe"
      ]
    },
    {
      "cell_type": "code",
      "source": [
        "suicides.sample(5)"
      ],
      "metadata": {
        "colab": {
          "base_uri": "https://localhost:8080/",
          "height": 206
        },
        "id": "3DDfuRzHRq3F",
        "outputId": "c16aa964-970c-4737-aa12-7d0d9d112cd9"
      },
      "execution_count": null,
      "outputs": [
        {
          "output_type": "execute_result",
          "data": {
            "text/plain": [
              "           country  year     sex          age  suicides_no  population  \\\n",
              "13800   Kazakhstan  1995    male  15-24 years          622     1455600   \n",
              "8148   El Salvador  1997  female  55-74 years            5      275078   \n",
              "3808       Belgium  2015  female  25-34 years           45      726357   \n",
              "20229        Qatar  2016    male    75+ years            0        6093   \n",
              "19492     Portugal  1996    male  25-34 years           52      742474   \n",
              "\n",
              "       suicides/100k pop     country-year  HDI for year              gpy  \\\n",
              "13800              42.73   Kazakhstan1995         0.664   20,374,307,047   \n",
              "8148                1.82  El Salvador1997           NaN   10,221,705,900   \n",
              "3808                6.20      Belgium2015           NaN  455,039,563,133   \n",
              "20229               0.00        Qatar2016           NaN  152,451,923,077   \n",
              "19492               7.00     Portugal1996           NaN  122,629,812,841   \n",
              "\n",
              "       gdp_per_capita     generation  \n",
              "13800             1359  Generation X  \n",
              "8148              2065        Silent  \n",
              "3808             42830    Millenials  \n",
              "20229            62484        Silent  \n",
              "19492            12887  Generation X  "
            ],
            "text/html": [
              "\n",
              "  <div id=\"df-e33a23a3-81ac-483d-9aa6-838f3ca04626\">\n",
              "    <div class=\"colab-df-container\">\n",
              "      <div>\n",
              "<style scoped>\n",
              "    .dataframe tbody tr th:only-of-type {\n",
              "        vertical-align: middle;\n",
              "    }\n",
              "\n",
              "    .dataframe tbody tr th {\n",
              "        vertical-align: top;\n",
              "    }\n",
              "\n",
              "    .dataframe thead th {\n",
              "        text-align: right;\n",
              "    }\n",
              "</style>\n",
              "<table border=\"1\" class=\"dataframe\">\n",
              "  <thead>\n",
              "    <tr style=\"text-align: right;\">\n",
              "      <th></th>\n",
              "      <th>country</th>\n",
              "      <th>year</th>\n",
              "      <th>sex</th>\n",
              "      <th>age</th>\n",
              "      <th>suicides_no</th>\n",
              "      <th>population</th>\n",
              "      <th>suicides/100k pop</th>\n",
              "      <th>country-year</th>\n",
              "      <th>HDI for year</th>\n",
              "      <th>gpy</th>\n",
              "      <th>gdp_per_capita</th>\n",
              "      <th>generation</th>\n",
              "    </tr>\n",
              "  </thead>\n",
              "  <tbody>\n",
              "    <tr>\n",
              "      <th>13800</th>\n",
              "      <td>Kazakhstan</td>\n",
              "      <td>1995</td>\n",
              "      <td>male</td>\n",
              "      <td>15-24 years</td>\n",
              "      <td>622</td>\n",
              "      <td>1455600</td>\n",
              "      <td>42.73</td>\n",
              "      <td>Kazakhstan1995</td>\n",
              "      <td>0.664</td>\n",
              "      <td>20,374,307,047</td>\n",
              "      <td>1359</td>\n",
              "      <td>Generation X</td>\n",
              "    </tr>\n",
              "    <tr>\n",
              "      <th>8148</th>\n",
              "      <td>El Salvador</td>\n",
              "      <td>1997</td>\n",
              "      <td>female</td>\n",
              "      <td>55-74 years</td>\n",
              "      <td>5</td>\n",
              "      <td>275078</td>\n",
              "      <td>1.82</td>\n",
              "      <td>El Salvador1997</td>\n",
              "      <td>NaN</td>\n",
              "      <td>10,221,705,900</td>\n",
              "      <td>2065</td>\n",
              "      <td>Silent</td>\n",
              "    </tr>\n",
              "    <tr>\n",
              "      <th>3808</th>\n",
              "      <td>Belgium</td>\n",
              "      <td>2015</td>\n",
              "      <td>female</td>\n",
              "      <td>25-34 years</td>\n",
              "      <td>45</td>\n",
              "      <td>726357</td>\n",
              "      <td>6.20</td>\n",
              "      <td>Belgium2015</td>\n",
              "      <td>NaN</td>\n",
              "      <td>455,039,563,133</td>\n",
              "      <td>42830</td>\n",
              "      <td>Millenials</td>\n",
              "    </tr>\n",
              "    <tr>\n",
              "      <th>20229</th>\n",
              "      <td>Qatar</td>\n",
              "      <td>2016</td>\n",
              "      <td>male</td>\n",
              "      <td>75+ years</td>\n",
              "      <td>0</td>\n",
              "      <td>6093</td>\n",
              "      <td>0.00</td>\n",
              "      <td>Qatar2016</td>\n",
              "      <td>NaN</td>\n",
              "      <td>152,451,923,077</td>\n",
              "      <td>62484</td>\n",
              "      <td>Silent</td>\n",
              "    </tr>\n",
              "    <tr>\n",
              "      <th>19492</th>\n",
              "      <td>Portugal</td>\n",
              "      <td>1996</td>\n",
              "      <td>male</td>\n",
              "      <td>25-34 years</td>\n",
              "      <td>52</td>\n",
              "      <td>742474</td>\n",
              "      <td>7.00</td>\n",
              "      <td>Portugal1996</td>\n",
              "      <td>NaN</td>\n",
              "      <td>122,629,812,841</td>\n",
              "      <td>12887</td>\n",
              "      <td>Generation X</td>\n",
              "    </tr>\n",
              "  </tbody>\n",
              "</table>\n",
              "</div>\n",
              "      <button class=\"colab-df-convert\" onclick=\"convertToInteractive('df-e33a23a3-81ac-483d-9aa6-838f3ca04626')\"\n",
              "              title=\"Convert this dataframe to an interactive table.\"\n",
              "              style=\"display:none;\">\n",
              "        \n",
              "  <svg xmlns=\"http://www.w3.org/2000/svg\" height=\"24px\"viewBox=\"0 0 24 24\"\n",
              "       width=\"24px\">\n",
              "    <path d=\"M0 0h24v24H0V0z\" fill=\"none\"/>\n",
              "    <path d=\"M18.56 5.44l.94 2.06.94-2.06 2.06-.94-2.06-.94-.94-2.06-.94 2.06-2.06.94zm-11 1L8.5 8.5l.94-2.06 2.06-.94-2.06-.94L8.5 2.5l-.94 2.06-2.06.94zm10 10l.94 2.06.94-2.06 2.06-.94-2.06-.94-.94-2.06-.94 2.06-2.06.94z\"/><path d=\"M17.41 7.96l-1.37-1.37c-.4-.4-.92-.59-1.43-.59-.52 0-1.04.2-1.43.59L10.3 9.45l-7.72 7.72c-.78.78-.78 2.05 0 2.83L4 21.41c.39.39.9.59 1.41.59.51 0 1.02-.2 1.41-.59l7.78-7.78 2.81-2.81c.8-.78.8-2.07 0-2.86zM5.41 20L4 18.59l7.72-7.72 1.47 1.35L5.41 20z\"/>\n",
              "  </svg>\n",
              "      </button>\n",
              "      \n",
              "  <style>\n",
              "    .colab-df-container {\n",
              "      display:flex;\n",
              "      flex-wrap:wrap;\n",
              "      gap: 12px;\n",
              "    }\n",
              "\n",
              "    .colab-df-convert {\n",
              "      background-color: #E8F0FE;\n",
              "      border: none;\n",
              "      border-radius: 50%;\n",
              "      cursor: pointer;\n",
              "      display: none;\n",
              "      fill: #1967D2;\n",
              "      height: 32px;\n",
              "      padding: 0 0 0 0;\n",
              "      width: 32px;\n",
              "    }\n",
              "\n",
              "    .colab-df-convert:hover {\n",
              "      background-color: #E2EBFA;\n",
              "      box-shadow: 0px 1px 2px rgba(60, 64, 67, 0.3), 0px 1px 3px 1px rgba(60, 64, 67, 0.15);\n",
              "      fill: #174EA6;\n",
              "    }\n",
              "\n",
              "    [theme=dark] .colab-df-convert {\n",
              "      background-color: #3B4455;\n",
              "      fill: #D2E3FC;\n",
              "    }\n",
              "\n",
              "    [theme=dark] .colab-df-convert:hover {\n",
              "      background-color: #434B5C;\n",
              "      box-shadow: 0px 1px 3px 1px rgba(0, 0, 0, 0.15);\n",
              "      filter: drop-shadow(0px 1px 2px rgba(0, 0, 0, 0.3));\n",
              "      fill: #FFFFFF;\n",
              "    }\n",
              "  </style>\n",
              "\n",
              "      <script>\n",
              "        const buttonEl =\n",
              "          document.querySelector('#df-e33a23a3-81ac-483d-9aa6-838f3ca04626 button.colab-df-convert');\n",
              "        buttonEl.style.display =\n",
              "          google.colab.kernel.accessAllowed ? 'block' : 'none';\n",
              "\n",
              "        async function convertToInteractive(key) {\n",
              "          const element = document.querySelector('#df-e33a23a3-81ac-483d-9aa6-838f3ca04626');\n",
              "          const dataTable =\n",
              "            await google.colab.kernel.invokeFunction('convertToInteractive',\n",
              "                                                     [key], {});\n",
              "          if (!dataTable) return;\n",
              "\n",
              "          const docLinkHtml = 'Like what you see? Visit the ' +\n",
              "            '<a target=\"_blank\" href=https://colab.research.google.com/notebooks/data_table.ipynb>data table notebook</a>'\n",
              "            + ' to learn more about interactive tables.';\n",
              "          element.innerHTML = '';\n",
              "          dataTable['output_type'] = 'display_data';\n",
              "          await google.colab.output.renderOutput(dataTable, element);\n",
              "          const docLink = document.createElement('div');\n",
              "          docLink.innerHTML = docLinkHtml;\n",
              "          element.appendChild(docLink);\n",
              "        }\n",
              "      </script>\n",
              "    </div>\n",
              "  </div>\n",
              "  "
            ]
          },
          "metadata": {},
          "execution_count": 16
        }
      ]
    },
    {
      "cell_type": "markdown",
      "source": [
        "Данный дадатасет персдтавляет собой набор описательных признаков о самоубийствах в разных страннах, распределённый по годам начиная с 1985 заканчивая 2016 годом. Набор предоставляемых данных хорошо подойдет для визуализации и анализа, составления наглядной статистики и графики с изображениями как на карте, так и в классических типах диаграмм. \n",
        "Делать какие-либо предсказания по этому датасету или гипотезы, определяющее \"реальное\" положение дел в странах будет затруднительно. Так же в датасете представлено не так много данных, описывающих сами страны, поэтому какие-то большие закономерности или комплексные тренды посредством представленых данных описать или визуализировать не выйдет"
      ],
      "metadata": {
        "id": "wXrNeOMPq5Hn"
      }
    },
    {
      "cell_type": "markdown",
      "source": [
        "### Предполагаемые гипотезы\n",
        "\n"
      ],
      "metadata": {
        "id": "p7Y7XAgvru16"
      }
    },
    {
      "cell_type": "markdown",
      "source": [
        "1.\tЖенщины совершают самоубийства чаще мужчин\n",
        "2.\tЧаще всего самоубийства совершают подростки\n",
        "3.\tДля женщин характерны самоубиства в раннем возрасте, в то время как мужчины совершают больше самоубиств в позднем возрасте\n",
        "4.\tСреди континентов лидером по суицидам является Северная Америка\n",
        "5.\tСреди стран <континент победитель по суицидам> победителем по суицидам является США (или другая страна - если другой континент)\n",
        "6.\tНаблюдается рост числа самоубиств за последние 5 лет (если считать, что сегодня 2016)\n",
        "7.\tЕсть корреляция между количеством самоубийств, численностью населения, индексом счастья и ВВП\n",
        "  0.\tСделать выводы по пунктам ниже:\n",
        "  1.\tЧем больше численность, тем выше кол-во самоубиств на душу населения\n",
        "  2.\tЧем выше ВВП, тем больше самоубийств\n",
        "  3.\tПро счастье тоже\n",
        "8.\tВ Африканских странах корелляция между уровнем счастья и количеством суицидов самая низкая по миру\n",
        "9.\tНовые поколения реже совершают самоубиства в раннем возрасте (до 25лет (может меньше, надо анализировать названия поколений и какие годы с ними ассоциируют)) Также можно уточнить, какие именно поколения.\n",
        "  0.\tЧем ближе дата подходим к \"нашим дням\" тем больше самоубийств смещается в сторону молодого поколения. В принципе можно и эту формулировку использовать\n",
        "10.\tКоличество самоубийств среди девушек возраста от 15 до 24 года в странах Европейского Союза увеличилось в течение 10 лет\n",
        "11.\tПроцентное соотношение самоубийств в странах ЕС, совершаемых мужчинами, увеличивается с течением их возраста (какой-нибудь swarmplot с hue бахнуть)\n",
        "12.\tВ более южных странах процент суицидов превалирует на стороне женщин, а в северных на стороне мужчин (Бедные страны сложно брать, так как они примерно все в более теплых регионах).\n",
        "13.\tCуициды в маленьких странах среди пожилого населения отсутствуют (минимальны)\n",
        "14.\tРоссия входит в топ 10 европескийх стран по количеству самоубиств (на душу населения)\n",
        "15.\tВ 2008 году из-за кризиса наблюдался рост числа самоубийств (по сравнению с близлежащими годами)\n",
        "16.\tРазница между количеством мужчин и женщин в странах с высоким индексом счастья не более 5%\n"
      ],
      "metadata": {
        "id": "vznki68VRO5O"
      }
    },
    {
      "cell_type": "markdown",
      "source": [
        "\n",
        "\n",
        "---\n",
        "\n"
      ],
      "metadata": {
        "id": "JjFMlGr4SZwC"
      }
    },
    {
      "cell_type": "markdown",
      "source": [
        "# Гипотезы"
      ],
      "metadata": {
        "id": "kPVXvSIqrrf_"
      }
    },
    {
      "cell_type": "markdown",
      "source": [
        "## Гипотеза 9\n",
        "Среди континентов лидером по суицидам является Северная Америка\n",
        "`Павел`"
      ],
      "metadata": {
        "id": "t0BDhgtt7f1-"
      }
    },
    {
      "cell_type": "code",
      "source": [
        "suicide9=suicides.copy()\n",
        "\n",
        "continents = {\n",
        "    'NA': 'North America',\n",
        "    'SA': 'South America', \n",
        "    'AS': 'Asia',\n",
        "    'OC': 'Australia',\n",
        "    'AF': 'Africa',\n",
        "    'EU': 'Europe'\n",
        "}\n",
        "\n",
        "# приводим некоторые страны к стандарту pycountry\n",
        "suicide9.loc[suicide9['country'] == 'Czech Republic', 'country'] = 'Czechia'\n",
        "suicide9.loc[suicide9['country'] == 'Macau', 'country'] = 'Macao'\n",
        "suicide9.loc[suicide9['country'] == 'Republic of Korea', 'country'] = 'Korea, Republic of'\n",
        "suicide9.loc[suicide9['country'] == 'Saint Vincent and Grenadines', 'country'] = 'Saint Vincent and the Grenadines'\n",
        "\n",
        "suicide9['country_2'] =  suicide9['country'].apply(lambda country: pycountry.countries.get(name=country).alpha_2) # получаем двухбуквенный код страны по её названию\n",
        "suicide9['Continent'] =  suicide9['country_2'].apply(lambda country: continents[pyconv.country_alpha2_to_continent_code(country)]) # определяем континент по двухбуквенному коду страны\n",
        "suicide9_1 = suicide9.groupby(by='Continent', as_index = False).sum()[['Continent', 'suicides_no']].sort_values(by='suicides_no', ascending=False) # вычисляем количество суицидов на континент\n",
        "\n",
        "sns.barplot(y=suicide9_1.Continent, x=suicide9_1.suicides_no, palette='rocket')\n",
        "plt.title(\"Количество самоубийств по континентам\");\n",
        "plt.xlabel(\"Количество самоубийств\");\n",
        "plt.ylabel(\"Континент\");\n",
        "plt.figsize=(100,100)"
      ],
      "metadata": {
        "colab": {
          "base_uri": "https://localhost:8080/",
          "height": 295
        },
        "id": "cwza-5UbZi5O",
        "outputId": "94974d1e-8997-4451-caaa-184d26a179b2"
      },
      "execution_count": null,
      "outputs": [
        {
          "output_type": "display_data",
          "data": {
            "text/plain": [
              "<Figure size 432x288 with 1 Axes>"
            ],
            "image/png": "[encoded data removed]"
          },
          "metadata": {
            "needs_background": "light"
          }
        }
      ]
    },
    {
      "cell_type": "markdown",
      "source": [
        "Гипотеза не подтвердилась. Отчётливо видно, что среди континентов лидером по суицидальным случаям является Европа. Северная Америка находится на третьем месте, с небольшим отставанием от Азии"
      ],
      "metadata": {
        "id": "5P18pFQHmDpV"
      }
    },
    {
      "cell_type": "markdown",
      "source": [
        "## Гипотеза 10\n",
        "Среди стран Америки лидером по суицидальным случаям является США (Америка как часть света)\n",
        "`Павел`"
      ],
      "metadata": {
        "id": "WEfhlHYG7whh"
      }
    },
    {
      "cell_type": "code",
      "source": [
        "suicide10=suicide9.copy()\n",
        "suicide10 = suicide10[(suicide10['Continent'] == 'North America') | (suicide10['Continent'] == 'South America')]\n",
        "suicide10 = suicide10.groupby(by='country', as_index = False).sum()[['country', 'suicides_no', 'suicides/100k pop']] # вычисляем количество суицидов на континент\n",
        "suicide10_1 = suicide10.sort_values(by='suicides_no', ascending=False).head(10)\n",
        "\n",
        "sns.barplot(y=suicide10_1.country, x=suicide10_1['suicides_no'], palette='rocket')\n",
        "plt.title(\"Топ 10 стран Америки по самоубийствам (количественная мера)\");\n",
        "plt.xlabel(\"Количество самоубийств\");\n",
        "plt.ylabel(\"Страна\");\n",
        "plt.figsize=(200,200)"
      ],
      "metadata": {
        "colab": {
          "base_uri": "https://localhost:8080/",
          "height": 295
        },
        "id": "Lhrff7OGnJGE",
        "outputId": "5f0d7969-1a36-4226-bd1d-ed70135bb4fa"
      },
      "execution_count": null,
      "outputs": [
        {
          "output_type": "display_data",
          "data": {
            "text/plain": [
              "<Figure size 432x288 with 1 Axes>"
            ],
            "image/png": "[encoded data removed]"
          },
          "metadata": {
            "needs_background": "light"
          }
        }
      ]
    },
    {
      "cell_type": "code",
      "source": [
        "suicide10=suicide9.copy()\n",
        "suicide10 = suicide10[(suicide10['Continent'] == 'North America') | (suicide10['Continent'] == 'South America')]\n",
        "\n",
        "suicide10 = suicide10.groupby(by=['country', 'year'], as_index = False).sum()[['country', 'suicides/100k pop']].rename(columns={'suicides/100k pop':'suicides100k'})\n",
        "suicide10 = suicide10.groupby(by=['country'], as_index = False).mean()\n",
        "suicide10_1 = suicide10.sort_values(by='suicides100k', ascending=False).head(10)\n",
        "\n",
        "sns.barplot(y=suicide10_1.country, x=suicide10_1['suicides100k'], palette='rocket')\n",
        "plt.title(\"Топ 10 стран Америки по самоубийствам (среднее значение на 100 тыс. человек)\");\n",
        "plt.xlabel(\"Количество самоубийств\");\n",
        "plt.ylabel(\"Страна\");\n",
        "plt.figsize=(200,200)"
      ],
      "metadata": {
        "colab": {
          "base_uri": "https://localhost:8080/",
          "height": 295
        },
        "id": "R91m0s62OrxA",
        "outputId": "250c5bd3-9eec-4bff-ffdb-e161d05424c5"
      },
      "execution_count": null,
      "outputs": [
        {
          "output_type": "display_data",
          "data": {
            "text/plain": [
              "<Figure size 432x288 with 1 Axes>"
            ],
            "image/png": "[encoded data removed]"
          },
          "metadata": {
            "needs_background": "light"
          }
        }
      ]
    },
    {
      "cell_type": "markdown",
      "source": [
        "Гипотеза частично подтвердилась. Количественно в США происходит больше всего самоубийств. Однако если смотреть среднее количество самоубийств на 100 тысяч человек за весь период, то США смещается на шестое место. На первом же месте в таком случае оказываются страны: Гайана, Суринам, Куба"
      ],
      "metadata": {
        "id": "ipaKReWrrUKB"
      }
    },
    {
      "cell_type": "markdown",
      "source": [
        "## Гипотеза 11\n",
        "Существует корреляция между количеством самоубийств, численностью населения и ВВП `Сергей`\n",
        "1.\tЧем больше численность, тем выше кол-во самоубиств на душу населения\n",
        "2.\tЧем выше ВВП, тем больше самоубийств"
      ],
      "metadata": {
        "id": "KrLhPMUy7_9Z"
      }
    },
    {
      "cell_type": "code",
      "source": [
        "suicide11=suicides.copy()\n",
        "suicide11['gpy']=suicide11[' gpy'].str.replace(',','')\n",
        "suicide11['gpy']=suicide11['gpy'].astype(int)\n",
        "\n",
        "\n",
        "suicide11=suicide11.groupby(['country', 'year']).agg({\"suicides_no\":\"sum\", \"population\":\"sum\", \"suicides/100k pop\":\"sum\",  \"gpy\":\"mean\"})\n",
        "corelate_matrix=suicide11.corr()\n",
        "fig, axis = plt.subplots(1, 1, figsize=(20, 7))\n",
        "sns.heatmap(ax=axis, data=corelate_matrix, annot=True, cmap=\"YlGnBu\").set_title('Карта корреляции характеристик', fontdict={'fontsize':12}, pad=12);\n"
      ],
      "metadata": {
        "colab": {
          "base_uri": "https://localhost:8080/",
          "height": 451
        },
        "id": "w0BdMVMp_OB3",
        "outputId": "8921b29b-aa85-42b6-93ce-dbce40eaf6bc"
      },
      "execution_count": null,
      "outputs": [
        {
          "output_type": "display_data",
          "data": {
            "text/plain": [
              "<Figure size 1440x504 with 2 Axes>"
            ],
            "image/png": "[encoded data removed]"
          },
          "metadata": {
            "needs_background": "light"
          }
        }
      ]
    },
    {
      "cell_type": "markdown",
      "source": [
        "Между ВВП и количеством самоубийств действительно существует положительная корелляция, хоть ее коэфициент и не слишком большой\n",
        "\n",
        "А вот линейная зависимость численности наcления от количества самоубийств на душу населения, можно считать, отсутсвует"
      ],
      "metadata": {
        "id": "33DCZvZU9-Mo"
      }
    },
    {
      "cell_type": "markdown",
      "source": [
        "## Гипотеза 12\n",
        "Страна с наибольшей  убылью населения (в %) по годам в период с 2000 по 2016 и страна с наибольшим количеством самоубийств на 100 тыс. населения по годам за этот же период не входят в топ 3 статистик друг друга (по убыли и самоубийствам)\n",
        "`Сергей`"
      ],
      "metadata": {
        "id": "OgC0BWaZ8M0P"
      }
    },
    {
      "cell_type": "code",
      "source": [
        "suicide12=suicides.copy()\n",
        "suicide12=suicide12[suicide12.year>=2000]\n",
        "suicide12['gpy']=suicide12[' gpy'].str.replace(',','')\n",
        "suicide12['gpy']=suicide12['gpy'].astype(int)\n",
        "country_year=suicide12.groupby(['country', 'year']).agg({\"suicides_no\":\"sum\", \"population\":\"sum\", \"suicides/100k pop\":\"sum\",  \"gpy\":\"mean\"}).reset_index()\n",
        "country_year[\"pct\"]=country_year.groupby(['country'])['population'].pct_change()\n",
        "\n",
        "#country_population=first_value.nlargest(3, \"percent_diff\").index\n",
        "\n",
        "country_max_suicides=country_year.groupby(['country',]).max().nlargest(3, \"suicides/100k pop\").index\n",
        "\n",
        "#country_year[country_year[\"country\"].isin(country_max_suicides)]\n",
        "country_max_change_pop=country_year.groupby(['country',]).max().nsmallest(3, \"pct\").index\n",
        "\n",
        "countries_pct=country_year[country_year.country.isin(country_max_change_pop)]\n",
        "countries_100k=country_year[country_year.country.isin(country_max_suicides)]"
      ],
      "metadata": {
        "id": "GyFWsAnUaXIZ"
      },
      "execution_count": null,
      "outputs": []
    },
    {
      "cell_type": "code",
      "source": [
        "sns.set(rc = {'figure.figsize':(15,8)})\n",
        "\n",
        "p = sns.lineplot(data=countries_pct, x=\"year\", y=\"pct\", hue=\"country\", style=\"country\",palette=\"icefire\" )\n",
        "p.set_xlabel(\"Года\")\n",
        "p.set_ylabel(\"% изменения популяции\")\n",
        "p.set_title('Изменение % оттока населения по годам')"
      ],
      "metadata": {
        "colab": {
          "base_uri": "https://localhost:8080/",
          "height": 536
        },
        "id": "Sats3-PgxP4D",
        "outputId": "c0a5ff76-0792-440b-f7db-45a710196e26"
      },
      "execution_count": null,
      "outputs": [
        {
          "output_type": "execute_result",
          "data": {
            "text/plain": [
              "Text(0.5, 1.0, 'Изменение % оттока населения по годам')"
            ]
          },
          "metadata": {},
          "execution_count": 22
        },
        {
          "output_type": "display_data",
          "data": {
            "text/plain": [
              "<Figure size 1080x576 with 1 Axes>"
            ],
            "image/png": "[encoded data removed]"
          },
          "metadata": {}
        }
      ]
    },
    {
      "cell_type": "code",
      "source": [
        "p2 = sns.lineplot(data=countries_100k, x=\"year\", y=\"suicides/100k pop\", hue=\"country\", style=\"country\",palette=\"husl\")\n",
        "p2.set_xlabel(\"Года\")\n",
        "p2.set_ylabel(\"Количество самоубийств на 100 тыс. населения\")\n",
        "p2.set_title('Изменения кол-ва самоубийств на 100к по годам')"
      ],
      "metadata": {
        "colab": {
          "base_uri": "https://localhost:8080/",
          "height": 536
        },
        "id": "NBmMr7VKxQHT",
        "outputId": "477305d2-171a-46a6-a05a-e952d36007a9"
      },
      "execution_count": null,
      "outputs": [
        {
          "output_type": "execute_result",
          "data": {
            "text/plain": [
              "Text(0.5, 1.0, 'Изменения кол-ва самоубийств на 100к по годам')"
            ]
          },
          "metadata": {},
          "execution_count": 23
        },
        {
          "output_type": "display_data",
          "data": {
            "text/plain": [
              "<Figure size 1080x576 with 1 Axes>"
            ],
            "image/png": "[encoded data removed]"
          },
          "metadata": {}
        }
      ]
    },
    {
      "cell_type": "markdown",
      "source": [
        "Гипотезу можно частично подтвердить, если согласиться с предположением, что в динамике изменения популяции за 2016 год образовывается выброс  для страны Литва (куда  за один год могло деться 11% населения?). Тогда максимальный отток населения наблюдается в болгарии в 2001 году. В графике изменения самоубийств эта страна не появляется, что частично подтверждает гипотезу.\n",
        "Если рассматривать график динамики изменения самоубийств на 100 тыс. населения по годам, то гипотеза частично опровергается - Литва является лидером по кол-ву самоубийств в 2001 году, и, при этом, присутсвует в графике оттока популяции\n",
        "\n",
        "Если же не соглашаться с тем что литва имеет выброс в статистике за 2016 год, то гипотеза полностью опровергается, по причине того что литва в обоих графах занимает первое место  как и по количеству самоубийств, так и по количеству оттока населения"
      ],
      "metadata": {
        "id": "npN2GGohzFdg"
      }
    },
    {
      "cell_type": "markdown",
      "source": [
        "## Гипотеза 13\n",
        "Количество самоубийств среди девушек возраста от 15 до 24 года в странах Европейского Союза увеличилось в течение 10 лет\n",
        "`Дмитрий`"
      ],
      "metadata": {
        "id": "QqxVtL2a8YsP"
      }
    },
    {
      "cell_type": "code",
      "source": [
        "suicides_13 = suicides.copy()\n",
        "EU_list = [\"Austria\", \"Belgium\", \"Bulgaria\", \"Croatia\", \"Cyprus\", \"Czech Republic\", \"Denmark\", \"Estonia\", \"Finland\", \"France\", \"Germany\", \"Greece\", \"Hungary\", \"Ireland\", \"Italy\", \"Latvia\", \"Lithuania\", \"Luxembourg\", \"Malta\", \"Netherlands\", \"Poland\", \"Portugal\", \"Romania\", \"Slovakia\", \"Slovenia\", \"Spain\",\"Sweden\"]\n",
        "\n",
        "\n",
        "suicides_13[\"EU_country_match\"] = suicides_13[\"country\"].apply(lambda x: \"Match\" if x in EU_list else \"False\")\n",
        "matched_df = suicides_13.loc[(suicides_13[\"EU_country_match\"] == 'Match') & (suicides_13[\"age\"] == '15-24 years') & (suicides_13[\"sex\"] == 'female')].drop(\"EU_country_match\", 1)\n",
        "\n",
        "# Отсортируем в течение 10-летнего периода (от 2016)\n",
        "matched_df['year_diff'] = matched_df['year'].apply(lambda x: \"Match\" if 2016.0 - x <= 10.0 else \"Not\")\n",
        "matched_df = matched_df.loc[matched_df['year_diff'] == 'Match'].drop('year_diff', 1)\n",
        "\n",
        "# Покажем изменение показателя на столбиковой диаграмме\n",
        "match = matched_df.groupby('year').agg({'suicides_no': 'sum'})\n",
        "plt.figure(figsize = (14, 6))\n",
        "plt.bar(x=match.index, height=match['suicides_no'], width = 0.7)\n",
        "plt.title(\"Диаграмма смерти девушек 15-24 лет в странах ЕС\")\n",
        "plt.xlabel(\"Год\")\n",
        "plt.ylabel(\"Количество смертей\")\n",
        "print(\"Размах составил\", match[\"suicides_no\"].max() - match[\"suicides_no\"].min(), \"смерти.\")"
      ],
      "metadata": {
        "id": "BDtthlL9C8dY",
        "colab": {
          "base_uri": "https://localhost:8080/",
          "height": 501
        },
        "outputId": "a1abdf2b-f8f0-4881-affd-324f4d4573fb"
      },
      "execution_count": null,
      "outputs": [
        {
          "output_type": "stream",
          "name": "stderr",
          "text": [
            "/usr/local/lib/python3.7/dist-packages/ipykernel_launcher.py:6: FutureWarning: In a future version of pandas all arguments of DataFrame.drop except for the argument 'labels' will be keyword-only\n",
            "  \n",
            "/usr/local/lib/python3.7/dist-packages/ipykernel_launcher.py:10: FutureWarning: In a future version of pandas all arguments of DataFrame.drop except for the argument 'labels' will be keyword-only\n",
            "  # Remove the CWD from sys.path while we load stuff.\n"
          ]
        },
        {
          "output_type": "stream",
          "name": "stdout",
          "text": [
            "Размах составил 543 смерти.\n"
          ]
        },
        {
          "output_type": "display_data",
          "data": {
            "text/plain": [
              "<Figure size 1008x432 with 1 Axes>"
            ],
            "image/png": "[encoded data removed]"
          },
          "metadata": {}
        }
      ]
    },
    {
      "cell_type": "markdown",
      "source": [
        "Как можно заметить поведение временного промежутка довольно неоднозначно, однако за последние 2 года стандартное отклонение переломило линию тренда."
      ],
      "metadata": {
        "id": "yywxXtGtqrzo"
      }
    },
    {
      "cell_type": "markdown",
      "source": [
        "## Гипотеза 14\n",
        "Количество самоубийств/100k человек в странах ЕС, совершаемых мужчинами, увеличивается с течением их времени в пределах одного поколения\n",
        "`Дмитрий`"
      ],
      "metadata": {
        "id": "U5PBN39Z8iDv"
      }
    },
    {
      "cell_type": "code",
      "source": [
        "EU_list = [\"Austria\", \"Belgium\", \"Bulgaria\", \"Croatia\", \"Cyprus\", \"Czech Republic\", \"Denmark\", \"Estonia\", \"Finland\", \"France\", \"Germany\", \"Greece\", \"Hungary\", \"Ireland\", \"Italy\", \"Latvia\", \"Lithuania\", \"Luxembourg\", \"Malta\", \"Netherlands\", \"Poland\", \"Portugal\", \"Romania\", \"Slovakia\", \"Slovenia\", \"Spain\",\"Sweden\"]\n",
        "suicides_14 = suicides.copy()\n",
        "suicides_14.sample(10)\n",
        "suicides_14[\"EU_country_match\"] = suicides_14[\"country\"].apply(lambda x: \"Match\" if x in EU_list else \"False\")\n",
        "answer = suicides_14.loc[(suicides_14[\"EU_country_match\"] == 'Match') & (suicides_14[\"sex\"] == 'male')].drop(\"EU_country_match\", 1)\n",
        "answer = answer.groupby(['generation', 'age']).agg({\"suicides/100k pop\": 'mean'}).reset_index()\n",
        "new_df = answer.loc[answer[\"age\"] == '5-14 years']\n",
        "new_df = new_df.reindex([8, 12, 9])\n",
        "answer = answer.reindex([3, 4, 13, 14, 15, 0, 1, 2, 8, 5, 6, 7, 12, 10, 11, 9])\n",
        "fig, axis = plt.subplots(1, 2, figsize=(25, 13))\n",
        "sns.barplot(ax = axis[0], x=\"generation\", y=\"suicides/100k pop\", hue=\"age\", data=answer).set_title(\"Количество суицидов/100k по поколениям\")\n",
        "sns.barplot(ax = axis[1], x ='generation', y='suicides/100k pop', hue='age', data=new_df).set_title(\"Количество суицидов/100k среди 5-14 лет\")"
      ],
      "metadata": {
        "colab": {
          "base_uri": "https://localhost:8080/",
          "height": 844
        },
        "id": "UUJeOJi3tBoc",
        "outputId": "44fba251-cd0e-4096-e2e9-8b79c7ba6825"
      },
      "execution_count": null,
      "outputs": [
        {
          "output_type": "stream",
          "name": "stderr",
          "text": [
            "/usr/local/lib/python3.7/dist-packages/ipykernel_launcher.py:5: FutureWarning: In a future version of pandas all arguments of DataFrame.drop except for the argument 'labels' will be keyword-only\n",
            "  \"\"\"\n"
          ]
        },
        {
          "output_type": "execute_result",
          "data": {
            "text/plain": [
              "Text(0.5, 1.0, 'Количество суицидов/100k среди 5-14 лет')"
            ]
          },
          "metadata": {},
          "execution_count": 25
        },
        {
          "output_type": "display_data",
          "data": {
            "text/plain": [
              "<Figure size 1800x936 with 2 Axes>"
            ],
            "image/png": "[encoded data removed]"
          },
          "metadata": {}
        }
      ]
    },
    {
      "cell_type": "markdown",
      "source": [
        "Данная информация говорит о том, что самоубийства нового поколения Z ниже данного показателя у миллениалов. 25-34 уменьшается плавно, среди 15-24 такая же тенденция. Выше всего статистика у GI, Silent поколения по суицидам у пожилых людей."
      ],
      "metadata": {
        "id": "jKuOb-g7SKfn"
      }
    },
    {
      "cell_type": "markdown",
      "source": [
        "## Гипотеза 15\n",
        "В более южных странах, в среднем, плотность суицидов превалирует на стороне женщин, а в северных - на стороне мужчин.\n",
        "`Дмитрий`"
      ],
      "metadata": {
        "id": "muU-Eu1I8hp9"
      }
    },
    {
      "cell_type": "code",
      "source": [
        "# Возьмем 5 стран с примерно одинаковым ВВП на душу населения с двух концов света\n",
        "suicides_15 = suicides.copy()\n",
        "#print(suicides_15.sample(3))\n",
        "# Найдем среднеисторический ВВП\n",
        "average_gdp = suicides_15.groupby(\"country\").agg({\"gdp_per_capita \" : \"mean\"})\n",
        "\n",
        "poor_df = average_gdp.loc[(average_gdp['gdp_per_capita '] >= 0) & (average_gdp['gdp_per_capita '] <= 5000)]\n",
        "normal_df = average_gdp.loc[(average_gdp[\"gdp_per_capita \"] >= 5001) & (average_gdp[\"gdp_per_capita \"] <= 15000.0)]\n",
        "rich_df = average_gdp.loc[(average_gdp[\"gdp_per_capita \"] >= 15001) & (average_gdp[\"gdp_per_capita \"] <= 35000.0)]\n",
        "gold_df = average_gdp.loc[average_gdp[\"gdp_per_capita \"] >= 35001]\n",
        "\n",
        "poor_s = [\"Thailand\"]\n",
        "poor_n = [\"Mongolia\"]\n",
        "\n",
        "normal_s = [\"Maldives\"]\n",
        "normal_n = [\"Estonia\"]\n",
        "\n",
        "rich_s = [\"Israel\"]\n",
        "rich_n = [\"New Zealand\"]\n",
        "\n",
        "gold_s = [\"Qatar\"]\n",
        "gold_n = [\"Sweden\"]\n",
        "\n",
        "d_p = suicides_15.groupby(['country', 'sex']).agg({\"suicides/100k pop\": \"mean\"}).reset_index()\n",
        "south_list = d_p.loc[(d_p['country'] == \"Thailand\") | (d_p['country'] == \"Maldives\") | (d_p['country'] == \"Israel\") | (d_p['country'] == \"Qatar\")]\n",
        "north_list = d_p.loc[(d_p['country'] == \"Mongolia\") | (d_p['country'] == \"Estonia\") | (d_p['country'] == \"New Zealand\") | (d_p['country'] == \"Sweden\")]\n",
        "mean_s = south_list.groupby(\"sex\").agg({\"suicides/100k pop\" : \"mean\"})\n",
        "mean_n = north_list.groupby(\"sex\").agg({\"suicides/100k pop\" : \"mean\"})\n",
        "mean_s.rename(columns = {'suicides/100k pop': \"south s/100k\"}, inplace = True)\n",
        "mean_n.rename(columns = {'suicides/100k pop': \"north s/100k\"}, inplace = True)\n",
        "#df.set_index('key').join(other.set_index('key'))\n",
        "united = mean_s.join(mean_n).reset_index()\n",
        "\n",
        "plt.figure(figsize = (20, 12))\n",
        "united.plot(x=\"sex\", y=[\"north s/100k\", \"south s/100k\"], kind=\"bar\")\n",
        "plt.title(\"Сравнение плотности смерти между мужчинами и женщинами в теплых и холодных странах\")\n",
        "plt.ylabel(\"Плотность смертей\")\n",
        "plt.xlabel(\"Пол\")"
      ],
      "metadata": {
        "colab": {
          "base_uri": "https://localhost:8080/",
          "height": 583
        },
        "id": "y_Xwwa9tep_D",
        "outputId": "42c74848-3803-494a-c86d-3e5168f53756"
      },
      "execution_count": null,
      "outputs": [
        {
          "output_type": "execute_result",
          "data": {
            "text/plain": [
              "Text(0.5, 0, 'Пол')"
            ]
          },
          "metadata": {},
          "execution_count": 26
        },
        {
          "output_type": "display_data",
          "data": {
            "text/plain": [
              "<Figure size 1440x864 with 0 Axes>"
            ]
          },
          "metadata": {}
        },
        {
          "output_type": "display_data",
          "data": {
            "text/plain": [
              "<Figure size 1080x576 with 1 Axes>"
            ],
            "image/png": "[encoded data removed]"
          },
          "metadata": {}
        }
      ]
    },
    {
      "cell_type": "markdown",
      "source": [
        "Удивительно, но плотность суицидов в северных стран среди мужчин во много превосходит южные регионы. При этом менее значительно растет данный показатель у женщин"
      ],
      "metadata": {
        "id": "JdYH_ZAr8YMg"
      }
    },
    {
      "cell_type": "markdown",
      "source": [
        "## Гипотеза 16\n",
        "Cуициды в маленьких странах среди пожилого населения отсутствуют (минимальны)\n",
        "`Дмитрий`"
      ],
      "metadata": {
        "id": "YrGqwJao8hZ2"
      }
    },
    {
      "cell_type": "code",
      "source": [
        "suicides_16 = suicides.copy()\n",
        "suicides_16.sample(30)\n",
        "\n",
        "# Возьмем маленькие страны африки, азии, америки, европы, океании, подсчет в которых ввелся с минимального одинакового года\n",
        "lt = [\"Austria\", \"Ecuador\", \"Maldives\", \"Sri Lanka\", \"Guyana\", \"Mauritius\", \"Fiju\"]\n",
        "suicides_16[\"small_country_match\"] = suicides_16[\"country\"].apply(lambda x: \"Match\" if x in lt else \"False\")\n",
        "answer = suicides_16.loc[(suicides_16[\"small_country_match\"] == 'Match') & (suicides_16[\"age\"] == '75+ years')].drop(\"small_country_match\", 1)\n",
        "answer = answer.groupby('country').agg({\"suicides/100k pop\": \"mean\"}).reset_index()\n",
        "\n",
        "# Сравним со средним показателем по миру\n",
        "old_man_world = suicides_16.loc[suicides_16[\"age\"] == '75+ years']\n",
        "\n",
        "average = old_man_world[\"suicides/100k pop\"].mean()\n",
        "\n",
        "answer = answer.append({\"country\": \"World\", \"suicides/100k pop\": average}, ignore_index = True).sort_values(\"suicides/100k pop\")\n",
        "\n",
        "plt.figure(figsize = (16, 7))\n",
        "plt.bar(x=answer[\"country\"], height=answer[\"suicides/100k pop\"], width=.7, color = ['brown', 'yellow', 'green', 'cyan', 'black', 'blue', 'red'])\n",
        "plt.title(\"Сравнение среднего уровня самоубийств на 100к человек\")\n",
        "plt.xlabel(\"Название страны\")\n",
        "plt.ylabel(\"Количество\");"
      ],
      "metadata": {
        "colab": {
          "base_uri": "https://localhost:8080/",
          "height": 537
        },
        "id": "SuEIFUDRqKKS",
        "outputId": "ade765b8-8304-43dd-aa2b-89dcb05280e5"
      },
      "execution_count": null,
      "outputs": [
        {
          "output_type": "stream",
          "name": "stderr",
          "text": [
            "/usr/local/lib/python3.7/dist-packages/ipykernel_launcher.py:7: FutureWarning:\n",
            "\n",
            "In a future version of pandas all arguments of DataFrame.drop except for the argument 'labels' will be keyword-only\n",
            "\n"
          ]
        },
        {
          "output_type": "display_data",
          "data": {
            "text/plain": [
              "<Figure size 1152x504 with 1 Axes>"
            ],
            "image/png": "[encoded data removed]"
          },
          "metadata": {}
        }
      ]
    },
    {
      "cell_type": "markdown",
      "source": [
        "Как выяснилось, точно определить нельзя, влияет ли размер страны и количество ее население решающим фактором для суицида лиц 75+ лет. Островные государства также не принадлежат этой логике в рамках нашего анализа. Стоит добавить, что в Австрии разрешена эвтаназия, поэтому всех людей, решившихся на нее, приписывают к суицидальному исходу жизни."
      ],
      "metadata": {
        "id": "aVgfHPHG5KDc"
      }
    },
    {
      "cell_type": "markdown",
      "source": [
        "# Бонус\n"
      ],
      "metadata": {
        "id": "03Lt8LOMTFld"
      }
    },
    {
      "cell_type": "code",
      "source": [
        "suicide_b=suicides.copy()\n",
        "suicide_b = suicide_b.groupby(by='country', as_index = False).sum()[['country', 'suicides_no']]\n",
        "\n",
        "fig = px.choropleth(suicide_b, \n",
        "                    locations='country',\n",
        "                    locationmode = 'country names', # говорит о том, что берем полные названия стран\n",
        "                    color='suicides_no',\n",
        "                    color_continuous_scale=px.colors.sequential.Burg,\n",
        "                    labels={'country':'Страна', 'suicides_no':'Количество самоубийств (1985-2016)'}\n",
        "                    )\n",
        "fig.update_layout(margin={\"r\":0,\"t\":0,\"l\":0,\"b\":0})\n",
        "fig.show()"
      ],
      "metadata": {
        "id": "5VD9JeNcTL-q",
        "colab": {
          "base_uri": "https://localhost:8080/",
          "height": 542
        },
        "outputId": "fa9e2d12-233c-4260-a1d7-f63d3cf7461d"
      },
      "execution_count": null,
      "outputs": [
        {
          "output_type": "display_data",
          "data": {
            "text/html": [
              "<html>\n",
              "<head><meta charset=\"utf-8\" /></head>\n",
              "<body>\n",
              "    <div>            <script src=\"https://cdnjs.cloudflare.com/ajax/libs/mathjax/2.7.5/MathJax.js?config=TeX-AMS-MML_SVG\"></script><script type=\"text/javascript\">if (window.MathJax) {MathJax.Hub.Config({SVG: {font: \"STIX-Web\"}});}</script>                <script type=\"text/javascript\">window.PlotlyConfig = {MathJaxConfig: 'local'};</script>\n",
              "        <script src=\"https://cdn.plot.ly/plotly-2.8.3.min.js\"></script>                <div id=\"29c3d143-1d1c-4d57-863b-af7e52d66b65\" class=\"plotly-graph-div\" style=\"height:525px; width:100%;\"></div>            <script type=\"text/javascript\">                                    window.PLOTLYENV=window.PLOTLYENV || {};                                    if (document.getElementById(\"29c3d143-1d1c-4d57-863b-af7e52d66b65\")) {                    Plotly.newPlot(                        \"29c3d143-1d1c-4d57-863b-af7e52d66b65\",                        [{\"coloraxis\":\"coloraxis\",\"geo\":\"geo\",\"hovertemplate\":\"\\u0421\\u0442\\u0440\\u0430\\u043d\\u0430=%{location}<br>\\u041a\\u043e\\u043b\\u0438\\u0447\\u0435\\u0441\\u0442\\u0432\\u043e \\u0441\\u0430\\u043c\\u043e\\u0443\\u0431\\u0438\\u0439\\u0441\\u0442\\u0432 (1985-2016)=%{z}<extra></extra>\",\"locationmode\":\"country names\",\"locations\":[\"Albania\",\"Antigua and Barbuda\",\"Argentina\",\"Armenia\",\"Aruba\",\"Australia\",\"Austria\",\"Azerbaijan\",\"Bahamas\",\"Bahrain\",\"Barbados\",\"Belarus\",\"Belgium\",\"Belize\",\"Bosnia and Herzegovina\",\"Brazil\",\"Bulgaria\",\"Cabo Verde\",\"Canada\",\"Chile\",\"Colombia\",\"Costa Rica\",\"Croatia\",\"Cuba\",\"Cyprus\",\"Czech Republic\",\"Denmark\",\"Dominica\",\"Ecuador\",\"El Salvador\",\"Estonia\",\"Fiji\",\"Finland\",\"France\",\"Georgia\",\"Germany\",\"Greece\",\"Grenada\",\"Guatemala\",\"Guyana\",\"Hungary\",\"Iceland\",\"Ireland\",\"Israel\",\"Italy\",\"Jamaica\",\"Japan\",\"Kazakhstan\",\"Kiribati\",\"Kuwait\",\"Kyrgyzstan\",\"Latvia\",\"Lithuania\",\"Luxembourg\",\"Macau\",\"Maldives\",\"Malta\",\"Mauritius\",\"Mexico\",\"Mongolia\",\"Montenegro\",\"Netherlands\",\"New Zealand\",\"Nicaragua\",\"Norway\",\"Oman\",\"Panama\",\"Paraguay\",\"Philippines\",\"Poland\",\"Portugal\",\"Puerto Rico\",\"Qatar\",\"Republic of Korea\",\"Romania\",\"Russian Federation\",\"Saint Kitts and Nevis\",\"Saint Lucia\",\"Saint Vincent and Grenadines\",\"San Marino\",\"Serbia\",\"Seychelles\",\"Singapore\",\"Slovakia\",\"Slovenia\",\"South Africa\",\"Spain\",\"Sri Lanka\",\"Suriname\",\"Sweden\",\"Switzerland\",\"Thailand\",\"Trinidad and Tobago\",\"Turkey\",\"Turkmenistan\",\"Ukraine\",\"United Arab Emirates\",\"United Kingdom\",\"United States\",\"Uruguay\",\"Uzbekistan\"],\"name\":\"\",\"z\":[1970,11,82219,1905,101,70111,50073,1656,93,463,177,59892,62761,348,318,226613,36388,42,107561,40895,53080,6792,18429,41418,412,43687,15297,0,20660,11683,7034,304,33677,329127,3224,291262,12368,38,8149,3426,73891,1108,12574,11294,132060,184,806902,101546,53,966,13090,12770,28039,1958,27,20,585,3894,111139,423,472,50833,14383,2013,16992,33,3483,4783,21330,139098,24061,9043,574,261730,72777,1209742,0,230,124,4,24179,98,10089,13437,10615,7321,100202,55641,2166,37795,26217,110643,4039,10131,8624,319950,622,136805,1034013,13138,34803],\"type\":\"choropleth\"}],                        {\"template\":{\"data\":{\"bar\":[{\"error_x\":{\"color\":\"#2a3f5f\"},\"error_y\":{\"color\":\"#2a3f5f\"},\"marker\":{\"line\":{\"color\":\"#E5ECF6\",\"width\":0.5},\"pattern\":{\"fillmode\":\"overlay\",\"size\":10,\"solidity\":0.2}},\"type\":\"bar\"}],\"barpolar\":[{\"marker\":{\"line\":{\"color\":\"#E5ECF6\",\"width\":0.5},\"pattern\":{\"fillmode\":\"overlay\",\"size\":10,\"solidity\":0.2}},\"type\":\"barpolar\"}],\"carpet\":[{\"aaxis\":{\"endlinecolor\":\"#2a3f5f\",\"gridcolor\":\"white\",\"linecolor\":\"white\",\"minorgridcolor\":\"white\",\"startlinecolor\":\"#2a3f5f\"},\"baxis\":{\"endlinecolor\":\"#2a3f5f\",\"gridcolor\":\"white\",\"linecolor\":\"white\",\"minorgridcolor\":\"white\",\"startlinecolor\":\"#2a3f5f\"},\"type\":\"carpet\"}],\"choropleth\":[{\"colorbar\":{\"outlinewidth\":0,\"ticks\":\"\"},\"type\":\"choropleth\"}],\"contour\":[{\"colorbar\":{\"outlinewidth\":0,\"ticks\":\"\"},\"colorscale\":[[0.0,\"#0d0887\"],[0.1111111111111111,\"#46039f\"],[0.2222222222222222,\"#7201a8\"],[0.3333333333333333,\"#9c179e\"],[0.4444444444444444,\"#bd3786\"],[0.5555555555555556,\"#d8576b\"],[0.6666666666666666,\"#ed7953\"],[0.7777777777777778,\"#fb9f3a\"],[0.8888888888888888,\"#fdca26\"],[1.0,\"#f0f921\"]],\"type\":\"contour\"}],\"contourcarpet\":[{\"colorbar\":{\"outlinewidth\":0,\"ticks\":\"\"},\"type\":\"contourcarpet\"}],\"heatmap\":[{\"colorbar\":{\"outlinewidth\":0,\"ticks\":\"\"},\"colorscale\":[[0.0,\"#0d0887\"],[0.1111111111111111,\"#46039f\"],[0.2222222222222222,\"#7201a8\"],[0.3333333333333333,\"#9c179e\"],[0.4444444444444444,\"#bd3786\"],[0.5555555555555556,\"#d8576b\"],[0.6666666666666666,\"#ed7953\"],[0.7777777777777778,\"#fb9f3a\"],[0.8888888888888888,\"#fdca26\"],[1.0,\"#f0f921\"]],\"type\":\"heatmap\"}],\"heatmapgl\":[{\"colorbar\":{\"outlinewidth\":0,\"ticks\":\"\"},\"colorscale\":[[0.0,\"#0d0887\"],[0.1111111111111111,\"#46039f\"],[0.2222222222222222,\"#7201a8\"],[0.3333333333333333,\"#9c179e\"],[0.4444444444444444,\"#bd3786\"],[0.5555555555555556,\"#d8576b\"],[0.6666666666666666,\"#ed7953\"],[0.7777777777777778,\"#fb9f3a\"],[0.8888888888888888,\"#fdca26\"],[1.0,\"#f0f921\"]],\"type\":\"heatmapgl\"}],\"histogram\":[{\"marker\":{\"pattern\":{\"fillmode\":\"overlay\",\"size\":10,\"solidity\":0.2}},\"type\":\"histogram\"}],\"histogram2d\":[{\"colorbar\":{\"outlinewidth\":0,\"ticks\":\"\"},\"colorscale\":[[0.0,\"#0d0887\"],[0.1111111111111111,\"#46039f\"],[0.2222222222222222,\"#7201a8\"],[0.3333333333333333,\"#9c179e\"],[0.4444444444444444,\"#bd3786\"],[0.5555555555555556,\"#d8576b\"],[0.6666666666666666,\"#ed7953\"],[0.7777777777777778,\"#fb9f3a\"],[0.8888888888888888,\"#fdca26\"],[1.0,\"#f0f921\"]],\"type\":\"histogram2d\"}],\"histogram2dcontour\":[{\"colorbar\":{\"outlinewidth\":0,\"ticks\":\"\"},\"colorscale\":[[0.0,\"#0d0887\"],[0.1111111111111111,\"#46039f\"],[0.2222222222222222,\"#7201a8\"],[0.3333333333333333,\"#9c179e\"],[0.4444444444444444,\"#bd3786\"],[0.5555555555555556,\"#d8576b\"],[0.6666666666666666,\"#ed7953\"],[0.7777777777777778,\"#fb9f3a\"],[0.8888888888888888,\"#fdca26\"],[1.0,\"#f0f921\"]],\"type\":\"histogram2dcontour\"}],\"mesh3d\":[{\"colorbar\":{\"outlinewidth\":0,\"ticks\":\"\"},\"type\":\"mesh3d\"}],\"parcoords\":[{\"line\":{\"colorbar\":{\"outlinewidth\":0,\"ticks\":\"\"}},\"type\":\"parcoords\"}],\"pie\":[{\"automargin\":true,\"type\":\"pie\"}],\"scatter\":[{\"marker\":{\"colorbar\":{\"outlinewidth\":0,\"ticks\":\"\"}},\"type\":\"scatter\"}],\"scatter3d\":[{\"line\":{\"colorbar\":{\"outlinewidth\":0,\"ticks\":\"\"}},\"marker\":{\"colorbar\":{\"outlinewidth\":0,\"ticks\":\"\"}},\"type\":\"scatter3d\"}],\"scattercarpet\":[{\"marker\":{\"colorbar\":{\"outlinewidth\":0,\"ticks\":\"\"}},\"type\":\"scattercarpet\"}],\"scattergeo\":[{\"marker\":{\"colorbar\":{\"outlinewidth\":0,\"ticks\":\"\"}},\"type\":\"scattergeo\"}],\"scattergl\":[{\"marker\":{\"colorbar\":{\"outlinewidth\":0,\"ticks\":\"\"}},\"type\":\"scattergl\"}],\"scattermapbox\":[{\"marker\":{\"colorbar\":{\"outlinewidth\":0,\"ticks\":\"\"}},\"type\":\"scattermapbox\"}],\"scatterpolar\":[{\"marker\":{\"colorbar\":{\"outlinewidth\":0,\"ticks\":\"\"}},\"type\":\"scatterpolar\"}],\"scatterpolargl\":[{\"marker\":{\"colorbar\":{\"outlinewidth\":0,\"ticks\":\"\"}},\"type\":\"scatterpolargl\"}],\"scatterternary\":[{\"marker\":{\"colorbar\":{\"outlinewidth\":0,\"ticks\":\"\"}},\"type\":\"scatterternary\"}],\"surface\":[{\"colorbar\":{\"outlinewidth\":0,\"ticks\":\"\"},\"colorscale\":[[0.0,\"#0d0887\"],[0.1111111111111111,\"#46039f\"],[0.2222222222222222,\"#7201a8\"],[0.3333333333333333,\"#9c179e\"],[0.4444444444444444,\"#bd3786\"],[0.5555555555555556,\"#d8576b\"],[0.6666666666666666,\"#ed7953\"],[0.7777777777777778,\"#fb9f3a\"],[0.8888888888888888,\"#fdca26\"],[1.0,\"#f0f921\"]],\"type\":\"surface\"}],\"table\":[{\"cells\":{\"fill\":{\"color\":\"#EBF0F8\"},\"line\":{\"color\":\"white\"}},\"header\":{\"fill\":{\"color\":\"#C8D4E3\"},\"line\":{\"color\":\"white\"}},\"type\":\"table\"}]},\"layout\":{\"annotationdefaults\":{\"arrowcolor\":\"#2a3f5f\",\"arrowhead\":0,\"arrowwidth\":1},\"autotypenumbers\":\"strict\",\"coloraxis\":{\"colorbar\":{\"outlinewidth\":0,\"ticks\":\"\"}},\"colorscale\":{\"diverging\":[[0,\"#8e0152\"],[0.1,\"#c51b7d\"],[0.2,\"#de77ae\"],[0.3,\"#f1b6da\"],[0.4,\"#fde0ef\"],[0.5,\"#f7f7f7\"],[0.6,\"#e6f5d0\"],[0.7,\"#b8e186\"],[0.8,\"#7fbc41\"],[0.9,\"#4d9221\"],[1,\"#276419\"]],\"sequential\":[[0.0,\"#0d0887\"],[0.1111111111111111,\"#46039f\"],[0.2222222222222222,\"#7201a8\"],[0.3333333333333333,\"#9c179e\"],[0.4444444444444444,\"#bd3786\"],[0.5555555555555556,\"#d8576b\"],[0.6666666666666666,\"#ed7953\"],[0.7777777777777778,\"#fb9f3a\"],[0.8888888888888888,\"#fdca26\"],[1.0,\"#f0f921\"]],\"sequentialminus\":[[0.0,\"#0d0887\"],[0.1111111111111111,\"#46039f\"],[0.2222222222222222,\"#7201a8\"],[0.3333333333333333,\"#9c179e\"],[0.4444444444444444,\"#bd3786\"],[0.5555555555555556,\"#d8576b\"],[0.6666666666666666,\"#ed7953\"],[0.7777777777777778,\"#fb9f3a\"],[0.8888888888888888,\"#fdca26\"],[1.0,\"#f0f921\"]]},\"colorway\":[\"#636efa\",\"#EF553B\",\"#00cc96\",\"#ab63fa\",\"#FFA15A\",\"#19d3f3\",\"#FF6692\",\"#B6E880\",\"#FF97FF\",\"#FECB52\"],\"font\":{\"color\":\"#2a3f5f\"},\"geo\":{\"bgcolor\":\"white\",\"lakecolor\":\"white\",\"landcolor\":\"#E5ECF6\",\"showlakes\":true,\"showland\":true,\"subunitcolor\":\"white\"},\"hoverlabel\":{\"align\":\"left\"},\"hovermode\":\"closest\",\"mapbox\":{\"style\":\"light\"},\"paper_bgcolor\":\"white\",\"plot_bgcolor\":\"#E5ECF6\",\"polar\":{\"angularaxis\":{\"gridcolor\":\"white\",\"linecolor\":\"white\",\"ticks\":\"\"},\"bgcolor\":\"#E5ECF6\",\"radialaxis\":{\"gridcolor\":\"white\",\"linecolor\":\"white\",\"ticks\":\"\"}},\"scene\":{\"xaxis\":{\"backgroundcolor\":\"#E5ECF6\",\"gridcolor\":\"white\",\"gridwidth\":2,\"linecolor\":\"white\",\"showbackground\":true,\"ticks\":\"\",\"zerolinecolor\":\"white\"},\"yaxis\":{\"backgroundcolor\":\"#E5ECF6\",\"gridcolor\":\"white\",\"gridwidth\":2,\"linecolor\":\"white\",\"showbackground\":true,\"ticks\":\"\",\"zerolinecolor\":\"white\"},\"zaxis\":{\"backgroundcolor\":\"#E5ECF6\",\"gridcolor\":\"white\",\"gridwidth\":2,\"linecolor\":\"white\",\"showbackground\":true,\"ticks\":\"\",\"zerolinecolor\":\"white\"}},\"shapedefaults\":{\"line\":{\"color\":\"#2a3f5f\"}},\"ternary\":{\"aaxis\":{\"gridcolor\":\"white\",\"linecolor\":\"white\",\"ticks\":\"\"},\"baxis\":{\"gridcolor\":\"white\",\"linecolor\":\"white\",\"ticks\":\"\"},\"bgcolor\":\"#E5ECF6\",\"caxis\":{\"gridcolor\":\"white\",\"linecolor\":\"white\",\"ticks\":\"\"}},\"title\":{\"x\":0.05},\"xaxis\":{\"automargin\":true,\"gridcolor\":\"white\",\"linecolor\":\"white\",\"ticks\":\"\",\"title\":{\"standoff\":15},\"zerolinecolor\":\"white\",\"zerolinewidth\":2},\"yaxis\":{\"automargin\":true,\"gridcolor\":\"white\",\"linecolor\":\"white\",\"ticks\":\"\",\"title\":{\"standoff\":15},\"zerolinecolor\":\"white\",\"zerolinewidth\":2}}},\"geo\":{\"domain\":{\"x\":[0.0,1.0],\"y\":[0.0,1.0]},\"center\":{}},\"coloraxis\":{\"colorbar\":{\"title\":{\"text\":\"\\u041a\\u043e\\u043b\\u0438\\u0447\\u0435\\u0441\\u0442\\u0432\\u043e \\u0441\\u0430\\u043c\\u043e\\u0443\\u0431\\u0438\\u0439\\u0441\\u0442\\u0432 (1985-2016)\"}},\"colorscale\":[[0.0,\"rgb(255, 198, 196)\"],[0.16666666666666666,\"rgb(244, 163, 168)\"],[0.3333333333333333,\"rgb(227, 129, 145)\"],[0.5,\"rgb(204, 96, 125)\"],[0.6666666666666666,\"rgb(173, 70, 108)\"],[0.8333333333333334,\"rgb(139, 48, 88)\"],[1.0,\"rgb(103, 32, 68)\"]]},\"legend\":{\"tracegroupgap\":0},\"margin\":{\"t\":0,\"r\":0,\"l\":0,\"b\":0}},                        {\"responsive\": true}                    ).then(function(){\n",
              "                            \n",
              "var gd = document.getElementById('29c3d143-1d1c-4d57-863b-af7e52d66b65');\n",
              "var x = new MutationObserver(function (mutations, observer) {{\n",
              "        var display = window.getComputedStyle(gd).display;\n",
              "        if (!display || display === 'none') {{\n",
              "            console.log([gd, 'removed!']);\n",
              "            Plotly.purge(gd);\n",
              "            observer.disconnect();\n",
              "        }}\n",
              "}});\n",
              "\n",
              "// Listen for the removal of the full notebook cells\n",
              "var notebookContainer = gd.closest('#notebook-container');\n",
              "if (notebookContainer) {{\n",
              "    x.observe(notebookContainer, {childList: true});\n",
              "}}\n",
              "\n",
              "// Listen for the clearing of the current output cell\n",
              "var outputEl = gd.closest('.output');\n",
              "if (outputEl) {{\n",
              "    x.observe(outputEl, {childList: true});\n",
              "}}\n",
              "\n",
              "                        })                };                            </script>        </div>\n",
              "</body>\n",
              "</html>"
            ]
          },
          "metadata": {}
        }
      ]
    }
  ]
}